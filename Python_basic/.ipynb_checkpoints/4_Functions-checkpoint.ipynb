{
 "cells": [
  {
   "cell_type": "code",
   "execution_count": 1,
   "id": "ed23cf61",
   "metadata": {},
   "outputs": [
    {
     "name": "stdout",
     "output_type": "stream",
     "text": [
      "15\n"
     ]
    }
   ],
   "source": [
    "def sum(a,b):\n",
    "    c=a+b\n",
    "    return c\n",
    "a=5\n",
    "b=10\n",
    "print(sum(a,b))"
   ]
  },
  {
   "cell_type": "code",
   "execution_count": 6,
   "id": "628e4d26",
   "metadata": {},
   "outputs": [
    {
     "data": {
      "text/plain": [
       "50"
      ]
     },
     "execution_count": 6,
     "metadata": {},
     "output_type": "execute_result"
    }
   ],
   "source": [
    "l=[5,10,15,20]\n",
    "\n",
    "def total(n):\n",
    "    sum=0\n",
    "    for i in n:\n",
    "        sum+=i\n",
    "    return sum\n",
    "    \n",
    "total(l)\n",
    "        "
   ]
  },
  {
   "cell_type": "code",
   "execution_count": 34,
   "id": "7296cfc2",
   "metadata": {},
   "outputs": [
    {
     "name": "stdout",
     "output_type": "stream",
     "text": [
      "10 5\n",
      "25.0\n"
     ]
    }
   ],
   "source": [
    "def area(height,base):\n",
    "    print(height , base)\n",
    "    \n",
    "    a=(1/2)*height*base\n",
    "    return a\n",
    "\n",
    "h=10\n",
    "b=5\n",
    "\n",
    "print(area(base=b,height=h))"
   ]
  },
  {
   "cell_type": "code",
   "execution_count": 41,
   "id": "860eab14",
   "metadata": {},
   "outputs": [
    {
     "name": "stdout",
     "output_type": "stream",
     "text": [
      "(1, 2, 3, 4, 5)\n"
     ]
    }
   ],
   "source": [
    "a=(1,2,3,4,5)\n",
    "def add(*a):\n",
    "    for i in a:\n",
    "        print(i)\n",
    "add(a)"
   ]
  },
  {
   "cell_type": "code",
   "execution_count": 53,
   "id": "bc1c5324",
   "metadata": {},
   "outputs": [
    {
     "data": {
      "text/plain": [
       "20"
      ]
     },
     "execution_count": 53,
     "metadata": {},
     "output_type": "execute_result"
    }
   ],
   "source": [
    "def max(a,b):\n",
    "    if a>=b:\n",
    "        return a \n",
    "    else:\n",
    "        return b\n",
    "a=10\n",
    "b=20\n",
    "c=12\n",
    "d=7\n",
    "max(max(a,b),max(c,d))"
   ]
  },
  {
   "cell_type": "code",
   "execution_count": 58,
   "id": "11432d7d",
   "metadata": {},
   "outputs": [],
   "source": [
    "l=[i+1 for i in range(11)]"
   ]
  },
  {
   "cell_type": "code",
   "execution_count": 59,
   "id": "9ff00981",
   "metadata": {},
   "outputs": [
    {
     "data": {
      "text/plain": [
       "[1, 2, 3, 4, 5, 6, 7, 8, 9, 10, 11]"
      ]
     },
     "execution_count": 59,
     "metadata": {},
     "output_type": "execute_result"
    }
   ],
   "source": [
    "l"
   ]
  }
 ],
 "metadata": {
  "kernelspec": {
   "display_name": "Python 3 (ipykernel)",
   "language": "python",
   "name": "python3"
  },
  "language_info": {
   "codemirror_mode": {
    "name": "ipython",
    "version": 3
   },
   "file_extension": ".py",
   "mimetype": "text/x-python",
   "name": "python",
   "nbconvert_exporter": "python",
   "pygments_lexer": "ipython3",
   "version": "3.11.4"
  }
 },
 "nbformat": 4,
 "nbformat_minor": 5
}

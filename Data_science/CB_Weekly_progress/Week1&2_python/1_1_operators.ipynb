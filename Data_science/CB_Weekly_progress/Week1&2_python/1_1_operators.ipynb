{
 "cells": [
  {
   "cell_type": "markdown",
   "id": "d8d2b1d1",
   "metadata": {},
   "source": [
    "# operators"
   ]
  },
  {
   "cell_type": "markdown",
   "id": "45b45815",
   "metadata": {},
   "source": [
    "hf"
   ]
  },
  {
   "cell_type": "raw",
   "id": "4ddf6fa3",
   "metadata": {},
   "source": [
    "this is raw NB converter"
   ]
  },
  {
   "cell_type": "code",
   "execution_count": 5,
   "id": "803f2a5f",
   "metadata": {},
   "outputs": [
    {
     "data": {
      "text/plain": [
       "0.2999999999999998"
      ]
     },
     "execution_count": 5,
     "metadata": {},
     "output_type": "execute_result"
    }
   ],
   "source": [
    "6-5.7"
   ]
  },
  {
   "cell_type": "code",
   "execution_count": 6,
   "id": "a78a3de5",
   "metadata": {},
   "outputs": [
    {
     "data": {
      "text/plain": [
       "0.3"
      ]
     },
     "execution_count": 6,
     "metadata": {},
     "output_type": "execute_result"
    }
   ],
   "source": [
    "round(6-5.7,2)"
   ]
  },
  {
   "cell_type": "code",
   "execution_count": 9,
   "id": "c6b58cf2",
   "metadata": {},
   "outputs": [
    {
     "name": "stdout",
     "output_type": "stream",
     "text": [
      "4489.599999999999\n"
     ]
    }
   ],
   "source": [
    "length=92\n",
    "breadth=48.8\n",
    "area=length*breadth\n",
    "print (area)"
   ]
  },
  {
   "cell_type": "code",
   "execution_count": 10,
   "id": "3d5348dd",
   "metadata": {},
   "outputs": [
    {
     "name": "stdout",
     "output_type": "stream",
     "text": [
      "6.59\n"
     ]
    }
   ],
   "source": [
    "chips=9\n",
    "cost_one=1.49\n",
    "total_cost=chips*cost_one\n",
    "print(20-total_cost)"
   ]
  },
  {
   "cell_type": "code",
   "execution_count": 13,
   "id": "38ebb38b",
   "metadata": {},
   "outputs": [
    {
     "name": "stdout",
     "output_type": "stream",
     "text": [
      "15125.0\n"
     ]
    }
   ],
   "source": [
    "length=5.5\n",
    "cost_title=500\n",
    "area=length**2\n",
    "print(area*cost_title)\n"
   ]
  },
  {
   "cell_type": "code",
   "execution_count": 12,
   "id": "13158fe3",
   "metadata": {},
   "outputs": [
    {
     "data": {
      "text/plain": [
       "'10001'"
      ]
     },
     "execution_count": 12,
     "metadata": {},
     "output_type": "execute_result"
    }
   ],
   "source": [
    "format(17,'b')"
   ]
  },
  {
   "cell_type": "code",
   "execution_count": 12,
   "id": "4566e760",
   "metadata": {},
   "outputs": [
    {
     "name": "stdout",
     "output_type": "stream",
     "text": [
      "0b10\n"
     ]
    }
   ],
   "source": [
    "a=0b1010\n",
    "b=0b110\n",
    "c=a&b\n",
    "print(bin(c))"
   ]
  },
  {
   "cell_type": "code",
   "execution_count": 4,
   "id": "24e863e0",
   "metadata": {},
   "outputs": [
    {
     "name": "stdout",
     "output_type": "stream",
     "text": [
      "0b1110\n"
     ]
    }
   ],
   "source": [
    "d=a | b\n",
    "print(bin(d))"
   ]
  },
  {
   "cell_type": "code",
   "execution_count": 7,
   "id": "d5f3bfd4",
   "metadata": {},
   "outputs": [
    {
     "name": "stdout",
     "output_type": "stream",
     "text": [
      "0b1100\n"
     ]
    }
   ],
   "source": [
    "e= a^b\n",
    "print(bin(e))"
   ]
  },
  {
   "cell_type": "code",
   "execution_count": 25,
   "id": "a9dffc77",
   "metadata": {},
   "outputs": [
    {
     "name": "stdout",
     "output_type": "stream",
     "text": [
      "-0b1100\n"
     ]
    }
   ],
   "source": [
    "a=0b1011\n",
    "f = ~a\n",
    "print(bin(f))"
   ]
  },
  {
   "cell_type": "code",
   "execution_count": 34,
   "id": "7a8d6bbf",
   "metadata": {},
   "outputs": [],
   "source": [
    "a=0b1010\n",
    "g = a<<5"
   ]
  },
  {
   "cell_type": "code",
   "execution_count": 35,
   "id": "b37c1533",
   "metadata": {},
   "outputs": [
    {
     "name": "stdout",
     "output_type": "stream",
     "text": [
      "320\n"
     ]
    }
   ],
   "source": [
    "print(g)"
   ]
  },
  {
   "cell_type": "code",
   "execution_count": 5,
   "id": "3f8c106f",
   "metadata": {},
   "outputs": [
    {
     "name": "stdout",
     "output_type": "stream",
     "text": [
      "0b110\n"
     ]
    }
   ],
   "source": [
    "a=0b1011\n",
    "b=0b1101\n",
    "e= a^b\n",
    "print(bin(e)) "
   ]
  },
  {
   "cell_type": "code",
   "execution_count": 6,
   "id": "e8242d85",
   "metadata": {},
   "outputs": [
    {
     "name": "stdout",
     "output_type": "stream",
     "text": [
      "enter value12\n"
     ]
    }
   ],
   "source": [
    "it=input(\"enter value\")\n"
   ]
  },
  {
   "cell_type": "code",
   "execution_count": 9,
   "id": "f4078dbb",
   "metadata": {},
   "outputs": [],
   "source": [
    "k=complex(2,3)"
   ]
  },
  {
   "cell_type": "code",
   "execution_count": 14,
   "id": "6f86ec01",
   "metadata": {},
   "outputs": [
    {
     "data": {
      "text/plain": [
       "<function complex.conjugate()>"
      ]
     },
     "execution_count": 14,
     "metadata": {},
     "output_type": "execute_result"
    }
   ],
   "source": [
    "k.conjugate"
   ]
  },
  {
   "cell_type": "code",
   "execution_count": 22,
   "id": "da03e725",
   "metadata": {},
   "outputs": [
    {
     "ename": "ValueError",
     "evalue": "could not convert string to float: 'None'",
     "output_type": "error",
     "traceback": [
      "\u001b[1;31m---------------------------------------------------------------------------\u001b[0m",
      "\u001b[1;31mValueError\u001b[0m                                Traceback (most recent call last)",
      "Cell \u001b[1;32mIn[22], line 1\u001b[0m\n\u001b[1;32m----> 1\u001b[0m \u001b[38;5;28mfloat\u001b[39m(\u001b[38;5;124m'\u001b[39m\u001b[38;5;124mNone\u001b[39m\u001b[38;5;124m'\u001b[39m)\n",
      "\u001b[1;31mValueError\u001b[0m: could not convert string to float: 'None'"
     ]
    }
   ],
   "source": [
    "float('None')"
   ]
  },
  {
   "cell_type": "code",
   "execution_count": 24,
   "id": "c8ae99a9",
   "metadata": {},
   "outputs": [
    {
     "data": {
      "text/html": [
       "<div>\n",
       "<style scoped>\n",
       "    .dataframe tbody tr th:only-of-type {\n",
       "        vertical-align: middle;\n",
       "    }\n",
       "\n",
       "    .dataframe tbody tr th {\n",
       "        vertical-align: top;\n",
       "    }\n",
       "\n",
       "    .dataframe thead th {\n",
       "        text-align: right;\n",
       "    }\n",
       "</style>\n",
       "<table border=\"1\" class=\"dataframe\">\n",
       "  <thead>\n",
       "    <tr style=\"text-align: right;\">\n",
       "      <th></th>\n",
       "      <th>First Score</th>\n",
       "      <th>Second Score</th>\n",
       "      <th>Third Score</th>\n",
       "    </tr>\n",
       "  </thead>\n",
       "  <tbody>\n",
       "    <tr>\n",
       "      <th>0</th>\n",
       "      <td>False</td>\n",
       "      <td>False</td>\n",
       "      <td>True</td>\n",
       "    </tr>\n",
       "    <tr>\n",
       "      <th>1</th>\n",
       "      <td>False</td>\n",
       "      <td>False</td>\n",
       "      <td>False</td>\n",
       "    </tr>\n",
       "    <tr>\n",
       "      <th>2</th>\n",
       "      <td>True</td>\n",
       "      <td>False</td>\n",
       "      <td>False</td>\n",
       "    </tr>\n",
       "    <tr>\n",
       "      <th>3</th>\n",
       "      <td>False</td>\n",
       "      <td>True</td>\n",
       "      <td>False</td>\n",
       "    </tr>\n",
       "  </tbody>\n",
       "</table>\n",
       "</div>"
      ],
      "text/plain": [
       "   First Score  Second Score  Third Score\n",
       "0        False         False         True\n",
       "1        False         False        False\n",
       "2         True         False        False\n",
       "3        False          True        False"
      ]
     },
     "execution_count": 24,
     "metadata": {},
     "output_type": "execute_result"
    }
   ],
   "source": [
    "\n",
    "# importing pandas as pd\n",
    "import pandas as pd\n",
    "  \n",
    "# importing numpy as np\n",
    "import numpy as np\n",
    "  \n",
    "# dictionary of lists\n",
    "dict = {'First Score':[100, 90, np.nan, 95],\n",
    "        'Second Score': [30, 45, 56, np.nan],\n",
    "        'Third Score':[np.nan, 40, 80, 98]}\n",
    "  \n",
    "# creating a dataframe from list\n",
    "df = pd.DataFrame(dict)\n",
    "  \n",
    "# using isnull() function  \n",
    "df.isnull()"
   ]
  },
  {
   "cell_type": "code",
   "execution_count": 31,
   "id": "06ce3056",
   "metadata": {},
   "outputs": [],
   "source": [
    "from filecmp import cmp\n"
   ]
  },
  {
   "cell_type": "code",
   "execution_count": 37,
   "id": "e0a6f5e4",
   "metadata": {},
   "outputs": [
    {
     "ename": "OSError",
     "evalue": "[WinError 6] The handle is invalid: 5",
     "output_type": "error",
     "traceback": [
      "\u001b[1;31m---------------------------------------------------------------------------\u001b[0m",
      "\u001b[1;31mOSError\u001b[0m                                   Traceback (most recent call last)",
      "Cell \u001b[1;32mIn[37], line 1\u001b[0m\n\u001b[1;32m----> 1\u001b[0m \u001b[38;5;28mprint\u001b[39m(cmp(\u001b[38;5;241m5\u001b[39m, \u001b[38;5;241m3\u001b[39m,))\n",
      "File \u001b[1;32m~\\anaconda3\\Lib\\filecmp.py:53\u001b[0m, in \u001b[0;36mcmp\u001b[1;34m(f1, f2, shallow)\u001b[0m\n\u001b[0;32m     30\u001b[0m \u001b[38;5;28;01mdef\u001b[39;00m \u001b[38;5;21mcmp\u001b[39m(f1, f2, shallow\u001b[38;5;241m=\u001b[39m\u001b[38;5;28;01mTrue\u001b[39;00m):\n\u001b[0;32m     31\u001b[0m \u001b[38;5;250m    \u001b[39m\u001b[38;5;124;03m\"\"\"Compare two files.\u001b[39;00m\n\u001b[0;32m     32\u001b[0m \n\u001b[0;32m     33\u001b[0m \u001b[38;5;124;03m    Arguments:\u001b[39;00m\n\u001b[1;32m   (...)\u001b[0m\n\u001b[0;32m     50\u001b[0m \n\u001b[0;32m     51\u001b[0m \u001b[38;5;124;03m    \"\"\"\u001b[39;00m\n\u001b[1;32m---> 53\u001b[0m     s1 \u001b[38;5;241m=\u001b[39m _sig(os\u001b[38;5;241m.\u001b[39mstat(f1))\n\u001b[0;32m     54\u001b[0m     s2 \u001b[38;5;241m=\u001b[39m _sig(os\u001b[38;5;241m.\u001b[39mstat(f2))\n\u001b[0;32m     55\u001b[0m     \u001b[38;5;28;01mif\u001b[39;00m s1[\u001b[38;5;241m0\u001b[39m] \u001b[38;5;241m!=\u001b[39m stat\u001b[38;5;241m.\u001b[39mS_IFREG \u001b[38;5;129;01mor\u001b[39;00m s2[\u001b[38;5;241m0\u001b[39m] \u001b[38;5;241m!=\u001b[39m stat\u001b[38;5;241m.\u001b[39mS_IFREG:\n",
      "\u001b[1;31mOSError\u001b[0m: [WinError 6] The handle is invalid: 5"
     ]
    }
   ],
   "source": [
    "\n",
    "print(cmp(5, 3,))\n",
    "\n",
    "\n"
   ]
  },
  {
   "cell_type": "code",
   "execution_count": null,
   "id": "ac41394b",
   "metadata": {},
   "outputs": [],
   "source": []
  }
 ],
 "metadata": {
  "kernelspec": {
   "display_name": "Python 3 (ipykernel)",
   "language": "python",
   "name": "python3"
  },
  "language_info": {
   "codemirror_mode": {
    "name": "ipython",
    "version": 3
   },
   "file_extension": ".py",
   "mimetype": "text/x-python",
   "name": "python",
   "nbconvert_exporter": "python",
   "pygments_lexer": "ipython3",
   "version": "3.11.4"
  }
 },
 "nbformat": 4,
 "nbformat_minor": 5
}

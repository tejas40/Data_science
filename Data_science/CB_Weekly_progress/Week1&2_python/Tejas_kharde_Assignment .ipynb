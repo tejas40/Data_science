{
 "cells": [
  {
   "cell_type": "markdown",
   "id": "9426dc39",
   "metadata": {},
   "source": [
    "# List_methods"
   ]
  },
  {
   "cell_type": "code",
   "execution_count": 87,
   "id": "dae6773b",
   "metadata": {},
   "outputs": [],
   "source": [
    "l=[]"
   ]
  },
  {
   "cell_type": "code",
   "execution_count": 88,
   "id": "68a086b1",
   "metadata": {},
   "outputs": [
    {
     "name": "stdout",
     "output_type": "stream",
     "text": [
      "[5]\n"
     ]
    }
   ],
   "source": [
    "def add_iteam(n):\n",
    "    try:\n",
    "        l.append(n)\n",
    "        print(l)\n",
    "    except exception as e:\n",
    "        print(e)\n",
    "n=5\n",
    "add_iteam(n)"
   ]
  },
  {
   "cell_type": "code",
   "execution_count": 89,
   "id": "f57e9a61",
   "metadata": {},
   "outputs": [
    {
     "name": "stdout",
     "output_type": "stream",
     "text": [
      "[5, 1]\n"
     ]
    }
   ],
   "source": [
    "def element_insert(i=0,n=1):\n",
    "    try:\n",
    "        l.insert(i,n)\n",
    "        print(l)\n",
    "    except Exception as e:\n",
    "        print(e)\n",
    "        \n",
    "element_insert(n)"
   ]
  },
  {
   "cell_type": "code",
   "execution_count": 90,
   "id": "396505b5",
   "metadata": {},
   "outputs": [],
   "source": [
    "def add_list(l1):\n",
    "    try:\n",
    "        l.extend(l1)\n",
    "        print(l1)\n",
    "    except:\n",
    "        print(\"no\")"
   ]
  },
  {
   "cell_type": "code",
   "execution_count": 91,
   "id": "56206eda",
   "metadata": {},
   "outputs": [
    {
     "name": "stdout",
     "output_type": "stream",
     "text": [
      "[3, 4, 5, 3, 2, 1, 12, 3]\n"
     ]
    }
   ],
   "source": [
    "m=[3,4,5,3,2,1,12,3]\n",
    "add_list(m)"
   ]
  },
  {
   "cell_type": "code",
   "execution_count": 92,
   "id": "84540616",
   "metadata": {},
   "outputs": [
    {
     "name": "stdout",
     "output_type": "stream",
     "text": [
      "list is empty\n"
     ]
    }
   ],
   "source": [
    "def count(n):\n",
    "    try:\n",
    "        a=l.count(n)\n",
    "        if a==0:\n",
    "            print(\"list is empty\")\n",
    "        else:\n",
    "            print(a)\n",
    "\n",
    "\n",
    "    except Exception as e:\n",
    "        print(e)\n",
    "count(0)"
   ]
  },
  {
   "cell_type": "code",
   "execution_count": 93,
   "id": "d766c985",
   "metadata": {},
   "outputs": [],
   "source": [
    "def empty_list(n):\n",
    "    try:\n",
    "        n.clear()\n",
    "    except Exception as e:\n",
    "        print(e)\n",
    "        "
   ]
  },
  {
   "cell_type": "code",
   "execution_count": 103,
   "id": "91600666",
   "metadata": {},
   "outputs": [
    {
     "name": "stdout",
     "output_type": "stream",
     "text": [
      "do u want to sort list in acending or decending order: acending\n",
      "you didn't pass list as a argument\n"
     ]
    }
   ],
   "source": [
    "def sort_list(l):\n",
    "    n=input(\"do u want to sort list in acending or decending order: \")\n",
    "    try:\n",
    "        if n==\"acending\":\n",
    "            l.sort()\n",
    "            print(l)\n",
    "        elif n==\"decending\":\n",
    "            l.sort(reverse=True)\n",
    "            print(l)\n",
    "        else:\n",
    "            print(\"you enter the wrong spelling\")\n",
    "            \n",
    "    except:\n",
    "        print(\"you didn't pass list as a argument\")\n",
    "a=[1,10,21,34,56,77,99,100]\n",
    "b=1\n",
    "sort_list(b)\n"
   ]
  },
  {
   "cell_type": "code",
   "execution_count": 108,
   "id": "2a31e3ce",
   "metadata": {},
   "outputs": [
    {
     "name": "stdout",
     "output_type": "stream",
     "text": [
      "which one u want to find min or max: min\n",
      "your list has no argument\n"
     ]
    }
   ],
   "source": [
    "def min_max(l):\n",
    "    n=input(\"which one u want to find min or max: \")\n",
    "    if n==\"min\" or n==\"max\":\n",
    "        try:\n",
    "            if n==\"min\":\n",
    "                print(min(l))\n",
    "            else:\n",
    "                print(max(l))\n",
    "        except:\n",
    "            print(\"your list has no argument\")\n",
    "    \n",
    "a=[1,10,21,34,56,77,99,100]\n",
    "min_max(a)\n"
   ]
  },
  {
   "cell_type": "code",
   "execution_count": 112,
   "id": "054c7c63",
   "metadata": {},
   "outputs": [
    {
     "name": "stdout",
     "output_type": "stream",
     "text": [
      "number is not available in the list\n"
     ]
    }
   ],
   "source": [
    "def remove_no(n):\n",
    "    try:\n",
    "        a.remove(n)\n",
    "        print(a)\n",
    "    except:\n",
    "        print(\"number is not available in the list\")\n",
    "a=[1,10,21,34,56,77,99,100]\n",
    "remove_no(11)"
   ]
  },
  {
   "cell_type": "markdown",
   "id": "8e6f4eb5",
   "metadata": {},
   "source": [
    "# File handling "
   ]
  },
  {
   "cell_type": "markdown",
   "id": "2676d97a",
   "metadata": {},
   "source": [
    "## Read mode"
   ]
  },
  {
   "cell_type": "code",
   "execution_count": 132,
   "id": "63c4cf43",
   "metadata": {},
   "outputs": [
    {
     "name": "stdout",
     "output_type": "stream",
     "text": [
      "[Errno 2] No such file or directory: 'abcd.txt'\n"
     ]
    }
   ],
   "source": [
    "try:\n",
    "    f=open(\"abcd.txt\",\"r\")\n",
    "    a=f.readlines()\n",
    "    if a==[]:\n",
    "        pass        \n",
    "    else:\n",
    "        print(a)\n",
    "    f.close()\n",
    "except Exception as e:\n",
    "    print(e)"
   ]
  },
  {
   "cell_type": "markdown",
   "id": "b3117904",
   "metadata": {},
   "source": [
    "## Write_File\n"
   ]
  },
  {
   "cell_type": "code",
   "execution_count": 142,
   "id": "85ec8d98",
   "metadata": {},
   "outputs": [],
   "source": [
    "f=open(\"abc.txt\",\"w\")\n",
    "try:\n",
    "    f.writelines([\"This is my first line in the file : \\n This is my second lines \\n this is my last line \\n\"])\n",
    "except Exception as e:\n",
    "    print(e)\n",
    "    "
   ]
  },
  {
   "cell_type": "markdown",
   "id": "803aa453",
   "metadata": {},
   "source": [
    "## Creat_File"
   ]
  },
  {
   "cell_type": "code",
   "execution_count": 144,
   "id": "6f60b7d4",
   "metadata": {},
   "outputs": [
    {
     "name": "stdout",
     "output_type": "stream",
     "text": [
      "This file is already exist\n"
     ]
    }
   ],
   "source": [
    "try:\n",
    "    f=open(\"abc2\",\"x\")\n",
    "except:\n",
    "    print(\"This file is already exist\")"
   ]
  },
  {
   "cell_type": "markdown",
   "id": "f5065eec",
   "metadata": {},
   "source": [
    "## Append_file"
   ]
  },
  {
   "cell_type": "code",
   "execution_count": 149,
   "id": "68e0d263",
   "metadata": {},
   "outputs": [],
   "source": [
    "f=open(\"abc.txt\",\"a\")\n",
    "try:\n",
    "    f.write(\"\\nThis is appended line \")\n",
    "    f.close()\n",
    "except Exception as e:\n",
    "    print(e)"
   ]
  },
  {
   "cell_type": "code",
   "execution_count": 161,
   "id": "727a7844",
   "metadata": {},
   "outputs": [
    {
     "data": {
      "text/plain": [
       "''"
      ]
     },
     "execution_count": 161,
     "metadata": {},
     "output_type": "execute_result"
    }
   ],
   "source": [
    "f=open(\"abc.txt\",\"r\")\n",
    "\n",
    "f.readlines()\n",
    "f.readline()"
   ]
  },
  {
   "cell_type": "code",
   "execution_count": 1,
   "id": "ad364436",
   "metadata": {},
   "outputs": [
    {
     "ename": "NameError",
     "evalue": "name 'cmp' is not defined",
     "output_type": "error",
     "traceback": [
      "\u001b[1;31m---------------------------------------------------------------------------\u001b[0m",
      "\u001b[1;31mNameError\u001b[0m                                 Traceback (most recent call last)",
      "Cell \u001b[1;32mIn[1], line 1\u001b[0m\n\u001b[1;32m----> 1\u001b[0m cmp(\u001b[38;5;241m3\u001b[39m,\u001b[38;5;241m1\u001b[39m)\n",
      "\u001b[1;31mNameError\u001b[0m: name 'cmp' is not defined"
     ]
    }
   ],
   "source": [
    "cmp(3,1)"
   ]
  },
  {
   "cell_type": "code",
   "execution_count": 2,
   "id": "f3647a4d",
   "metadata": {},
   "outputs": [
    {
     "name": "stdout",
     "output_type": "stream",
     "text": [
      "{0, 10, 2}\n",
      "{0, 10, 2}\n",
      "{0, 10, 2}\n"
     ]
    }
   ],
   "source": [
    "d={0,10,2}\n",
    "for i in d:\n",
    "    print(d)"
   ]
  },
  {
   "cell_type": "code",
   "execution_count": 5,
   "id": "7566eee3",
   "metadata": {},
   "outputs": [
    {
     "data": {
      "text/plain": [
       "0.30000000000000004"
      ]
     },
     "execution_count": 5,
     "metadata": {},
     "output_type": "execute_result"
    }
   ],
   "source": [
    "0.1+0.2"
   ]
  },
  {
   "cell_type": "code",
   "execution_count": 6,
   "id": "005b50ce",
   "metadata": {},
   "outputs": [
    {
     "name": "stdout",
     "output_type": "stream",
     "text": [
      "1\n",
      "2\n",
      "3\n",
      "4\n"
     ]
    }
   ],
   "source": [
    "x=1\n",
    "while True:\n",
    "    if x%5==0:\n",
    "        break\n",
    "    print(x)\n",
    "    x+=1"
   ]
  },
  {
   "cell_type": "code",
   "execution_count": null,
   "id": "86f58d68",
   "metadata": {},
   "outputs": [],
   "source": []
  }
 ],
 "metadata": {
  "kernelspec": {
   "display_name": "Python 3 (ipykernel)",
   "language": "python",
   "name": "python3"
  },
  "language_info": {
   "codemirror_mode": {
    "name": "ipython",
    "version": 3
   },
   "file_extension": ".py",
   "mimetype": "text/x-python",
   "name": "python",
   "nbconvert_exporter": "python",
   "pygments_lexer": "ipython3",
   "version": "3.11.4"
  }
 },
 "nbformat": 4,
 "nbformat_minor": 5
}

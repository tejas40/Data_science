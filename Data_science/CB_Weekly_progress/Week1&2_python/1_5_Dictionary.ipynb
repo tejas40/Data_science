{
 "cells": [
  {
   "cell_type": "code",
   "execution_count": 49,
   "id": "2e958f09",
   "metadata": {},
   "outputs": [],
   "source": [
    "d={\"key\":\"value\",\"name\":\"John\",\"email\":\"john@gamil.com\",\"mobile\":123456,\"Address\":\"Mumbai\"}"
   ]
  },
  {
   "cell_type": "code",
   "execution_count": 50,
   "id": "8c957b27",
   "metadata": {},
   "outputs": [
    {
     "data": {
      "text/plain": [
       "dict_keys(['key', 'name', 'email', 'mobile', 'Address'])"
      ]
     },
     "execution_count": 50,
     "metadata": {},
     "output_type": "execute_result"
    }
   ],
   "source": [
    "d.keys()"
   ]
  },
  {
   "cell_type": "code",
   "execution_count": 13,
   "id": "4fda3e45",
   "metadata": {},
   "outputs": [
    {
     "data": {
      "text/plain": [
       "dict_values(['value', 'John', 'john@gamil.com', 123456, 'Mumbai'])"
      ]
     },
     "execution_count": 13,
     "metadata": {},
     "output_type": "execute_result"
    }
   ],
   "source": [
    "d.values()"
   ]
  },
  {
   "cell_type": "code",
   "execution_count": 18,
   "id": "ecd29723",
   "metadata": {},
   "outputs": [
    {
     "data": {
      "text/plain": [
       "'John'"
      ]
     },
     "execution_count": 18,
     "metadata": {},
     "output_type": "execute_result"
    }
   ],
   "source": [
    "d.get(\"name\")"
   ]
  },
  {
   "cell_type": "code",
   "execution_count": 23,
   "id": "4e30fa55",
   "metadata": {},
   "outputs": [
    {
     "data": {
      "text/plain": [
       "'John'"
      ]
     },
     "execution_count": 23,
     "metadata": {},
     "output_type": "execute_result"
    }
   ],
   "source": [
    "d.get(\"name\")"
   ]
  },
  {
   "cell_type": "code",
   "execution_count": 40,
   "id": "dc56884d",
   "metadata": {},
   "outputs": [],
   "source": [
    "D[\"key\"]=\"value\""
   ]
  },
  {
   "cell_type": "code",
   "execution_count": 47,
   "id": "ec40c4d4",
   "metadata": {},
   "outputs": [
    {
     "data": {
      "text/plain": [
       "{'m': None, 'u': None, 'b': None, 'a': None, 'i': None}"
      ]
     },
     "execution_count": 47,
     "metadata": {},
     "output_type": "execute_result"
    }
   ],
   "source": [
    "D.fromkeys(\"mumbai\")"
   ]
  },
  {
   "cell_type": "code",
   "execution_count": 48,
   "id": "20a3132d",
   "metadata": {},
   "outputs": [
    {
     "data": {
      "text/plain": [
       "{'key': 'value',\n",
       " 'name': 'John',\n",
       " 'email': 'john@gamil.com',\n",
       " 'mobile': 123456,\n",
       " 'Address': 'Mumbai'}"
      ]
     },
     "execution_count": 48,
     "metadata": {},
     "output_type": "execute_result"
    }
   ],
   "source": [
    "d"
   ]
  },
  {
   "cell_type": "code",
   "execution_count": 51,
   "id": "0ea6e868",
   "metadata": {},
   "outputs": [
    {
     "data": {
      "text/plain": [
       "{'name': 'John', 'email': 'john@gamil.com', 'mobile': 123456, 'key': 'value'}"
      ]
     },
     "execution_count": 51,
     "metadata": {},
     "output_type": "execute_result"
    }
   ],
   "source": [
    "D"
   ]
  },
  {
   "cell_type": "code",
   "execution_count": 52,
   "id": "260cd183",
   "metadata": {},
   "outputs": [
    {
     "data": {
      "text/plain": [
       "{'m': None, 'o': None, 'b': None, 'i': None, 'l': None, 'e': None}"
      ]
     },
     "execution_count": 52,
     "metadata": {},
     "output_type": "execute_result"
    }
   ],
   "source": [
    "D.fromkeys(\"mobile\")"
   ]
  },
  {
   "cell_type": "code",
   "execution_count": 53,
   "id": "2ffe9611",
   "metadata": {},
   "outputs": [
    {
     "data": {
      "text/plain": [
       "{'name': 'John', 'email': 'john@gamil.com', 'mobile': 123456, 'key': 'value'}"
      ]
     },
     "execution_count": 53,
     "metadata": {},
     "output_type": "execute_result"
    }
   ],
   "source": [
    "D"
   ]
  },
  {
   "cell_type": "code",
   "execution_count": 56,
   "id": "b54ded79",
   "metadata": {},
   "outputs": [],
   "source": [
    "D.setdefault(\"keys\")"
   ]
  },
  {
   "cell_type": "code",
   "execution_count": 64,
   "id": "03eb4c3d",
   "metadata": {},
   "outputs": [],
   "source": [
    "D[\"keys\"]=\"this is new key\""
   ]
  },
  {
   "cell_type": "code",
   "execution_count": 65,
   "id": "ee1381b1",
   "metadata": {},
   "outputs": [
    {
     "data": {
      "text/plain": [
       "{'key': 'value',\n",
       " 'name': 'John',\n",
       " 'email': 'john@gamil.com',\n",
       " 'mobile': 123456,\n",
       " 'Address': 'Mumbai'}"
      ]
     },
     "execution_count": 65,
     "metadata": {},
     "output_type": "execute_result"
    }
   ],
   "source": [
    "d"
   ]
  },
  {
   "cell_type": "code",
   "execution_count": 66,
   "id": "e8945fbc",
   "metadata": {},
   "outputs": [
    {
     "data": {
      "text/plain": [
       "{'name': 'John',\n",
       " 'email': 'john@gamil.com',\n",
       " 'mobile': 123456,\n",
       " 'key': 'value',\n",
       " 'keys': 'this is new key'}"
      ]
     },
     "execution_count": 66,
     "metadata": {},
     "output_type": "execute_result"
    }
   ],
   "source": [
    "D"
   ]
  },
  {
   "cell_type": "code",
   "execution_count": 76,
   "id": "c13588be",
   "metadata": {},
   "outputs": [],
   "source": [
    "d={\"name\":\"John\",\"email\":\"john@gamil.com\",\"mobile\":123456,\"Address\":\"Mumbai\",\"skills\":{\"ds\":\"python\",\"web\":\"HTML\"\" c++\"}}"
   ]
  },
  {
   "cell_type": "code",
   "execution_count": 80,
   "id": "a6720de2",
   "metadata": {},
   "outputs": [
    {
     "data": {
      "text/plain": [
       "'python'"
      ]
     },
     "execution_count": 80,
     "metadata": {},
     "output_type": "execute_result"
    }
   ],
   "source": [
    "d[\"skills\"][\"ds\"]"
   ]
  },
  {
   "cell_type": "code",
   "execution_count": 91,
   "id": "6dce1d91",
   "metadata": {},
   "outputs": [],
   "source": [
    "d.clear()"
   ]
  },
  {
   "cell_type": "code",
   "execution_count": 92,
   "id": "20e5c8db",
   "metadata": {},
   "outputs": [
    {
     "data": {
      "text/plain": [
       "{}"
      ]
     },
     "execution_count": 92,
     "metadata": {},
     "output_type": "execute_result"
    }
   ],
   "source": [
    "d"
   ]
  },
  {
   "cell_type": "code",
   "execution_count": 93,
   "id": "ee8de4e0",
   "metadata": {},
   "outputs": [
    {
     "data": {
      "text/plain": [
       "{}"
      ]
     },
     "execution_count": 93,
     "metadata": {},
     "output_type": "execute_result"
    }
   ],
   "source": [
    "d"
   ]
  },
  {
   "cell_type": "code",
   "execution_count": 94,
   "id": "b4c6c604",
   "metadata": {},
   "outputs": [],
   "source": [
    "d[\"key\"]=\"value\""
   ]
  },
  {
   "cell_type": "code",
   "execution_count": 95,
   "id": "7deef4d5",
   "metadata": {},
   "outputs": [
    {
     "data": {
      "text/plain": [
       "{'key': 'value'}"
      ]
     },
     "execution_count": 95,
     "metadata": {},
     "output_type": "execute_result"
    }
   ],
   "source": [
    "d"
   ]
  },
  {
   "cell_type": "code",
   "execution_count": 96,
   "id": "04793d70",
   "metadata": {},
   "outputs": [
    {
     "data": {
      "text/plain": [
       "{'name': 'John',\n",
       " 'email': 'john@gamil.com',\n",
       " 'mobile': 123456,\n",
       " 'key': 'value',\n",
       " 'keys': 'this is new key'}"
      ]
     },
     "execution_count": 96,
     "metadata": {},
     "output_type": "execute_result"
    }
   ],
   "source": [
    "D"
   ]
  },
  {
   "cell_type": "code",
   "execution_count": 97,
   "id": "e9cb0077",
   "metadata": {},
   "outputs": [],
   "source": [
    "d.update(D)"
   ]
  },
  {
   "cell_type": "code",
   "execution_count": 98,
   "id": "78f0d655",
   "metadata": {},
   "outputs": [
    {
     "data": {
      "text/plain": [
       "{'key': 'value',\n",
       " 'name': 'John',\n",
       " 'email': 'john@gamil.com',\n",
       " 'mobile': 123456,\n",
       " 'keys': 'this is new key'}"
      ]
     },
     "execution_count": 98,
     "metadata": {},
     "output_type": "execute_result"
    }
   ],
   "source": [
    "d"
   ]
  },
  {
   "cell_type": "code",
   "execution_count": 99,
   "id": "19d5a1c9",
   "metadata": {},
   "outputs": [
    {
     "data": {
      "text/plain": [
       "{'key': 'value',\n",
       " 'name': 'John',\n",
       " 'email': 'john@gamil.com',\n",
       " 'mobile': 123456,\n",
       " 'keys': 'this is new key'}"
      ]
     },
     "execution_count": 99,
     "metadata": {},
     "output_type": "execute_result"
    }
   ],
   "source": [
    "d"
   ]
  },
  {
   "cell_type": "code",
   "execution_count": 100,
   "id": "35bd45d7",
   "metadata": {},
   "outputs": [
    {
     "data": {
      "text/plain": [
       "{'name': 'John',\n",
       " 'email': 'john@gamil.com',\n",
       " 'mobile': 123456,\n",
       " 'key': 'value',\n",
       " 'keys': 'this is new key'}"
      ]
     },
     "execution_count": 100,
     "metadata": {},
     "output_type": "execute_result"
    }
   ],
   "source": [
    "D"
   ]
  },
  {
   "cell_type": "markdown",
   "id": "9b6ec804",
   "metadata": {},
   "source": [
    "# code basic Assignment"
   ]
  },
  {
   "cell_type": "code",
   "execution_count": null,
   "id": "9334d521",
   "metadata": {},
   "outputs": [],
   "source": [
    "p={\"china\":143,\"india\":136,\"USA\":32,\"pakistan\":21} \n",
    "n1=china"
   ]
  },
  {
   "cell_type": "code",
   "execution_count": 6,
   "id": "90b81595",
   "metadata": {},
   "outputs": [],
   "source": [
    "p.get(\"n1\")"
   ]
  },
  {
   "cell_type": "code",
   "execution_count": 1,
   "id": "1c2903a2",
   "metadata": {},
   "outputs": [],
   "source": [
    "s={\"info\":[600,630,620],\n",
    "\"ril\":[1430,1490,1567],\n",
    "\"mtl\":[234,180,160]}"
   ]
  },
  {
   "cell_type": "code",
   "execution_count": 2,
   "id": "aceb6383",
   "metadata": {},
   "outputs": [
    {
     "data": {
      "text/plain": [
       "dict_items([('info', [600, 630, 620]), ('ril', [1430, 1490, 1567]), ('mtl', [234, 180, 160])])"
      ]
     },
     "execution_count": 2,
     "metadata": {},
     "output_type": "execute_result"
    }
   ],
   "source": [
    "s.items()"
   ]
  },
  {
   "cell_type": "code",
   "execution_count": 3,
   "id": "e7e8f7a5",
   "metadata": {},
   "outputs": [
    {
     "data": {
      "text/plain": [
       "616.6666666666666"
      ]
     },
     "execution_count": 3,
     "metadata": {},
     "output_type": "execute_result"
    }
   ],
   "source": [
    "sum(s[\"info\"])/len(s[\"info\"])"
   ]
  },
  {
   "cell_type": "code",
   "execution_count": null,
   "id": "7592b114",
   "metadata": {},
   "outputs": [],
   "source": [
    "s={\"info\":[600,630,620],\n",
    "\"ril\":[1430,1490,1567],\n",
    "\"mtl\":[234,180,160]}\n",
    "\n",
    "n=input(\"Enter the operation print / add: \")\n",
    " \n",
    "if n==\"print\":\n",
    "    for c,n in s.items():\n",
    "        print(c,\"==>\",n,\"==>\",round(sum(s[\"info\"])/len(s[\"info\"]),2)) ## s[\"info\"] : give the value in list[600,630,620]\n",
    "        #sum(s[\"info\"]) : add those list value & len(s[\"info\"] : divide that value with no of elemts & round result upto 2 point\n",
    "elif n==\"add\":\n",
    "    n1=input(\"Enter the stock u wanna add in the list\")\n",
    "    if n1 in s:\n",
    "        n2=input(\"enter stock price u wanna enter: \")\n",
    "        s[str(n1)]=str(n2)\n",
    "    else:\n",
    "        s[str(n1)]=str(n2)"
   ]
  },
  {
   "cell_type": "code",
   "execution_count": 18,
   "id": "e29d7488",
   "metadata": {},
   "outputs": [
    {
     "data": {
      "text/plain": [
       "{'info': '324', 'ril': [1430, 1490, 1567], 'mtl': [234, 180, 160]}"
      ]
     },
     "execution_count": 18,
     "metadata": {},
     "output_type": "execute_result"
    }
   ],
   "source": [
    "s"
   ]
  },
  {
   "cell_type": "code",
   "execution_count": 21,
   "id": "43251d0e",
   "metadata": {},
   "outputs": [
    {
     "name": "stdout",
     "output_type": "stream",
     "text": [
      "Enter the stock u wanna add in the list: info\n",
      "enter stock price u wanna enter: 1234\n",
      "{'info': [600, 630, 620, 1234], 'ril': [1430, 1490, 1567], 'mtl': [234, 180, 160]}\n"
     ]
    }
   ],
   "source": [
    "s={\"info\":[600,630,620],\n",
    "\"ril\":[1430,1490,1567],\n",
    "\"mtl\":[234,180,160]}\n",
    "n1=input(\"Enter the stock u wanna add in the list: \")\n",
    "n3=int(input(\"enter stock price u wanna enter: \"))\n",
    "# s[str(n1)].append(12)\n",
    "s[str(n2)].append(n3)\n",
    "print(s)"
   ]
  },
  {
   "cell_type": "code",
   "execution_count": 20,
   "id": "8024819a",
   "metadata": {},
   "outputs": [
    {
     "data": {
      "text/plain": [
       "{'info': [600, 630, 620, 11111111111111111],\n",
       " 'ril': [1430, 1490, 1567],\n",
       " 'mtl': [234, 180, 160]}"
      ]
     },
     "execution_count": 20,
     "metadata": {},
     "output_type": "execute_result"
    }
   ],
   "source": [
    "s"
   ]
  },
  {
   "cell_type": "markdown",
   "id": "4f512d2e",
   "metadata": {},
   "source": [
    "# Google Assignment\n"
   ]
  },
  {
   "cell_type": "raw",
   "id": "3d29c15b",
   "metadata": {},
   "source": [
    "Question 1 The email_list function receives a dictionary, which contains domain names as keys, and a list of users as values. Fill in the blanks to generate a list that contains complete email addresses (e.g. diana.prince@gmail.com)."
   ]
  },
  {
   "cell_type": "code",
   "execution_count": 1,
   "id": "27d7c13f",
   "metadata": {},
   "outputs": [
    {
     "name": "stdout",
     "output_type": "stream",
     "text": [
      "['clark.kent@gmail.com', 'diana.prince@gmail.com', 'peter.parker@gmail.com', 'barbara.gordon@yahoo.com', 'jean.grey@yahoo.com', 'bruce.wayne@hotmail.com']\n"
     ]
    }
   ],
   "source": [
    "def email_list(domains):\n",
    "\temails = []\n",
    "\tfor domain,users in domains.items():\n",
    "\t  for user in users:\n",
    "\t    emails.append(user+'@'+domain)\n",
    "\treturn(emails)\n",
    "\n",
    "print(email_list({\"gmail.com\": [\"clark.kent\", \"diana.prince\", \"peter.parker\"], \"yahoo.com\": [\"barbara.gordon\", \"jean.grey\"], \"hotmail.com\": [\"bruce.wayne\"]}))"
   ]
  },
  {
   "cell_type": "code",
   "execution_count": null,
   "id": "8f492d96",
   "metadata": {},
   "outputs": [],
   "source": []
  },
  {
   "cell_type": "code",
   "execution_count": null,
   "id": "20dd5aba",
   "metadata": {},
   "outputs": [],
   "source": []
  },
  {
   "cell_type": "raw",
   "id": "ac067f2e",
   "metadata": {},
   "source": [
    "The groups_per_user function receives a dictionary, which contains group names with the list of users. Users can belong to multiple groups. Fill in the blanks to return a dictionary with the users as keys and a list of their groups as values."
   ]
  },
  {
   "cell_type": "code",
   "execution_count": 2,
   "id": "d00e12be",
   "metadata": {},
   "outputs": [
    {
     "name": "stdout",
     "output_type": "stream",
     "text": [
      "{'admin': ['local', 'public', 'administrator'], 'userA': ['local'], 'userB': ['public']}\n"
     ]
    }
   ],
   "source": [
    "def groups_per_user(group_dictionary):\n",
    "\tuser_groups = {}\n",
    "\t# Go through group_dictionary\n",
    "\tfor group in group_dictionary.keys():\n",
    "\t\t# Now go through the users in the group\n",
    "\t\tfor users in group_dictionary[group]:\n",
    "\t\t  lst = []\n",
    "\t\t  for group in group_dictionary.keys():\n",
    "\t\t    if users in group_dictionary[group] and users not in lst:\n",
    "\t\t      lst.append(group)\n",
    "\t\t  user_groups[users] = lst\n",
    "\treturn user_groups\n",
    "\t\t\t# Now add the group to the the list of\n",
    "# groups for this user, creating the entry\n",
    "# in the dictionary if necessary\n",
    "\n",
    "\n",
    "print(groups_per_user({\"local\": [\"admin\", \"userA\"],\n",
    "\t\t\"public\":  [\"admin\", \"userB\"],\n",
    "\t\t\"administrator\": [\"admin\"] }))"
   ]
  },
  {
   "cell_type": "raw",
   "id": "6927f2f3",
   "metadata": {},
   "source": [
    "Question 5 The add_prices function returns the total price of all of the groceries in the dictionary. Fill in the blanks to complete this function."
   ]
  },
  {
   "cell_type": "code",
   "execution_count": 3,
   "id": "b4de7f37",
   "metadata": {},
   "outputs": [
    {
     "name": "stdout",
     "output_type": "stream",
     "text": [
      "28.44\n"
     ]
    }
   ],
   "source": [
    "def add_prices(basket):\n",
    "\t# Initialize the variable that will be used for the calculation\n",
    "\ttotal = 0\n",
    "\t# Iterate through the dictionary items\n",
    "\tfor item, price in basket.items():\n",
    "\t\t# Add each price to the total calculation\n",
    "\t\t# Hint: how do you access the values of\n",
    "\t\t# dictionary items?\n",
    "\t\ttotal += price\n",
    "\t# Limit the return value to 2 decimal places\n",
    "\treturn round(total, 2)  \n",
    "\n",
    "groceries = {\"bananas\": 1.56, \"apples\": 2.50, \"oranges\": 0.99, \"bread\": 4.59, \n",
    "\t\"coffee\": 6.99, \"milk\": 3.39, \"eggs\": 2.98, \"cheese\": 5.44}\n",
    "\n",
    "print(add_prices(groceries)) # Should print 28.44"
   ]
  },
  {
   "cell_type": "code",
   "execution_count": 4,
   "id": "741891de",
   "metadata": {},
   "outputs": [],
   "source": [
    "wardrobe = {'shirt': ['red', 'blue', 'white'], 'jeans': ['blue', 'black']}\n",
    "new_items = {'jeans': ['white'], 'scarf': ['yellow'], 'socks': ['black', 'brown']}\n",
    "wardrobe.update(new_items)"
   ]
  },
  {
   "cell_type": "code",
   "execution_count": 5,
   "id": "49df716e",
   "metadata": {},
   "outputs": [
    {
     "data": {
      "text/plain": [
       "{'shirt': ['red', 'blue', 'white'],\n",
       " 'jeans': ['white'],\n",
       " 'scarf': ['yellow'],\n",
       " 'socks': ['black', 'brown']}"
      ]
     },
     "execution_count": 5,
     "metadata": {},
     "output_type": "execute_result"
    }
   ],
   "source": [
    "wardrobe\n"
   ]
  },
  {
   "cell_type": "code",
   "execution_count": null,
   "id": "a2b1e121",
   "metadata": {},
   "outputs": [],
   "source": []
  }
 ],
 "metadata": {
  "kernelspec": {
   "display_name": "Python 3 (ipykernel)",
   "language": "python",
   "name": "python3"
  },
  "language_info": {
   "codemirror_mode": {
    "name": "ipython",
    "version": 3
   },
   "file_extension": ".py",
   "mimetype": "text/x-python",
   "name": "python",
   "nbconvert_exporter": "python",
   "pygments_lexer": "ipython3",
   "version": "3.11.4"
  }
 },
 "nbformat": 4,
 "nbformat_minor": 5
}

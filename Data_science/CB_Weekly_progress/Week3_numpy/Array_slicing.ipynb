{
 "cells": [
  {
   "cell_type": "code",
   "execution_count": 4,
   "id": "7f9fd08a",
   "metadata": {},
   "outputs": [],
   "source": [
    "\n",
    "import numpy as np\n"
   ]
  },
  {
   "cell_type": "code",
   "execution_count": 2,
   "id": "16167d61",
   "metadata": {},
   "outputs": [],
   "source": [
    "a=np.array([[6,7,8,],[1,2,3,],[4,5,6]])"
   ]
  },
  {
   "cell_type": "code",
   "execution_count": 3,
   "id": "3f1b5f50",
   "metadata": {},
   "outputs": [
    {
     "data": {
      "text/plain": [
       "array([[6, 7, 8],\n",
       "       [1, 2, 3],\n",
       "       [4, 5, 6]])"
      ]
     },
     "execution_count": 3,
     "metadata": {},
     "output_type": "execute_result"
    }
   ],
   "source": [
    "a"
   ]
  },
  {
   "cell_type": "code",
   "execution_count": 11,
   "id": "bd0a7378",
   "metadata": {},
   "outputs": [
    {
     "data": {
      "text/plain": [
       "array([8, 3, 6])"
      ]
     },
     "execution_count": 11,
     "metadata": {},
     "output_type": "execute_result"
    }
   ],
   "source": [
    "a[0:3,2]"
   ]
  },
  {
   "cell_type": "code",
   "execution_count": 18,
   "id": "fda5300f",
   "metadata": {},
   "outputs": [],
   "source": [
    "b=np.arange(5,101,5).reshape(2,5,2)"
   ]
  },
  {
   "cell_type": "code",
   "execution_count": 19,
   "id": "bee28512",
   "metadata": {},
   "outputs": [
    {
     "data": {
      "text/plain": [
       "array([[[  5,  10],\n",
       "        [ 15,  20],\n",
       "        [ 25,  30],\n",
       "        [ 35,  40],\n",
       "        [ 45,  50]],\n",
       "\n",
       "       [[ 55,  60],\n",
       "        [ 65,  70],\n",
       "        [ 75,  80],\n",
       "        [ 85,  90],\n",
       "        [ 95, 100]]])"
      ]
     },
     "execution_count": 19,
     "metadata": {},
     "output_type": "execute_result"
    }
   ],
   "source": [
    "b"
   ]
  },
  {
   "cell_type": "code",
   "execution_count": 32,
   "id": "972d93ec",
   "metadata": {},
   "outputs": [
    {
     "data": {
      "text/plain": [
       "array([75, 80])"
      ]
     },
     "execution_count": 32,
     "metadata": {},
     "output_type": "execute_result"
    }
   ],
   "source": [
    "b[1,2,0:2]"
   ]
  },
  {
   "cell_type": "code",
   "execution_count": 34,
   "id": "3522f6bd",
   "metadata": {},
   "outputs": [],
   "source": [
    "d=np.arange(30).reshape(2,15)"
   ]
  },
  {
   "cell_type": "code",
   "execution_count": 35,
   "id": "2318d99c",
   "metadata": {},
   "outputs": [
    {
     "data": {
      "text/plain": [
       "array([[ 0,  1,  2,  3,  4,  5,  6,  7,  8,  9, 10, 11, 12, 13, 14],\n",
       "       [15, 16, 17, 18, 19, 20, 21, 22, 23, 24, 25, 26, 27, 28, 29]])"
      ]
     },
     "execution_count": 35,
     "metadata": {},
     "output_type": "execute_result"
    }
   ],
   "source": [
    "d"
   ]
  },
  {
   "cell_type": "code",
   "execution_count": 47,
   "id": "ed971a53",
   "metadata": {},
   "outputs": [
    {
     "data": {
      "text/plain": [
       "[array([[ 0,  1,  2],\n",
       "        [15, 16, 17]]),\n",
       " array([[ 3,  4,  5],\n",
       "        [18, 19, 20]]),\n",
       " array([[ 6,  7,  8],\n",
       "        [21, 22, 23]]),\n",
       " array([[ 9, 10, 11],\n",
       "        [24, 25, 26]]),\n",
       " array([[12, 13, 14],\n",
       "        [27, 28, 29]])]"
      ]
     },
     "execution_count": 47,
     "metadata": {},
     "output_type": "execute_result"
    }
   ],
   "source": [
    "np.hsplit(d,5)"
   ]
  },
  {
   "cell_type": "code",
   "execution_count": 42,
   "id": "f5e1c1c7",
   "metadata": {},
   "outputs": [
    {
     "data": {
      "text/plain": [
       "[array([[ 0,  1,  2,  3,  4,  5,  6,  7,  8,  9, 10, 11, 12, 13, 14]]),\n",
       " array([[15, 16, 17, 18, 19, 20, 21, 22, 23, 24, 25, 26, 27, 28, 29]])]"
      ]
     },
     "execution_count": 42,
     "metadata": {},
     "output_type": "execute_result"
    }
   ],
   "source": [
    "np.vsplit(d,2)"
   ]
  },
  {
   "cell_type": "code",
   "execution_count": 5,
   "id": "42c789af",
   "metadata": {},
   "outputs": [],
   "source": [
    "e=np.array([1,2,3,4,5,6,6,7])"
   ]
  },
  {
   "cell_type": "code",
   "execution_count": 6,
   "id": "3810fae9",
   "metadata": {},
   "outputs": [
    {
     "data": {
      "text/plain": [
       "array([1, 2, 3, 4, 5, 6, 6, 7])"
      ]
     },
     "execution_count": 6,
     "metadata": {},
     "output_type": "execute_result"
    }
   ],
   "source": [
    "e"
   ]
  },
  {
   "cell_type": "code",
   "execution_count": 18,
   "id": "f568b47f",
   "metadata": {},
   "outputs": [
    {
     "data": {
      "text/plain": [
       "[array([1]), array([2, 3, 4]), array([5, 6, 6, 7])]"
      ]
     },
     "execution_count": 18,
     "metadata": {},
     "output_type": "execute_result"
    }
   ],
   "source": [
    "np.split(e,[1,4])"
   ]
  },
  {
   "cell_type": "code",
   "execution_count": null,
   "id": "ccf2b347",
   "metadata": {},
   "outputs": [],
   "source": []
  }
 ],
 "metadata": {
  "kernelspec": {
   "display_name": "Python 3 (ipykernel)",
   "language": "python",
   "name": "python3"
  },
  "language_info": {
   "codemirror_mode": {
    "name": "ipython",
    "version": 3
   },
   "file_extension": ".py",
   "mimetype": "text/x-python",
   "name": "python",
   "nbconvert_exporter": "python",
   "pygments_lexer": "ipython3",
   "version": "3.11.4"
  }
 },
 "nbformat": 4,
 "nbformat_minor": 5
}

{
 "cells": [
  {
   "cell_type": "code",
   "execution_count": 1,
   "id": "4c26f19e",
   "metadata": {},
   "outputs": [],
   "source": [
    "import numpy as np"
   ]
  },
  {
   "cell_type": "code",
   "execution_count": 3,
   "id": "d05d0698",
   "metadata": {},
   "outputs": [],
   "source": [
    "cell=np.array([[6, 7, 8],\n",
    "       [1, 2, 3],\n",
    "       [4, 5, 6]])  \n"
   ]
  },
  {
   "cell_type": "code",
   "execution_count": 5,
   "id": "76a27316",
   "metadata": {},
   "outputs": [
    {
     "name": "stdout",
     "output_type": "stream",
     "text": [
      "[6 7 8]\n",
      "[1 2 3]\n",
      "[4 5 6]\n"
     ]
    }
   ],
   "source": [
    "for row in cell:  \n",
    "    print(row)  \n",
    "    "
   ]
  },
  {
   "cell_type": "code",
   "execution_count": 6,
   "id": "44019391",
   "metadata": {},
   "outputs": [
    {
     "name": "stdout",
     "output_type": "stream",
     "text": [
      "6\n",
      "7\n",
      "8\n",
      "1\n",
      "2\n",
      "3\n",
      "4\n",
      "5\n",
      "6\n"
     ]
    }
   ],
   "source": [
    "for row in cell:\n",
    "    for no in row:\n",
    "        print(no)"
   ]
  },
  {
   "cell_type": "code",
   "execution_count": 21,
   "id": "c83d57a6",
   "metadata": {},
   "outputs": [],
   "source": [
    "a=np.array([1,2,3,4,6,7])\n",
    "b=np.array([8,9,10,11,12,13])"
   ]
  },
  {
   "cell_type": "code",
   "execution_count": 22,
   "id": "98d5e87d",
   "metadata": {},
   "outputs": [
    {
     "name": "stdout",
     "output_type": "stream",
     "text": [
      "1\n",
      "2\n",
      "3\n",
      "4\n",
      "6\n",
      "7\n"
     ]
    }
   ],
   "source": [
    "for cell in a.flatten():\n",
    "    print(cell)"
   ]
  },
  {
   "cell_type": "code",
   "execution_count": 23,
   "id": "0d8d720b",
   "metadata": {},
   "outputs": [
    {
     "name": "stdout",
     "output_type": "stream",
     "text": [
      "1 8\n",
      "2 9\n",
      "3 10\n",
      "4 11\n",
      "6 12\n",
      "7 13\n"
     ]
    }
   ],
   "source": [
    "for x,y in np.nditer([a,b]):\n",
    "    print(x,y)"
   ]
  }
 ],
 "metadata": {
  "kernelspec": {
   "display_name": "Python 3 (ipykernel)",
   "language": "python",
   "name": "python3"
  },
  "language_info": {
   "codemirror_mode": {
    "name": "ipython",
    "version": 3
   },
   "file_extension": ".py",
   "mimetype": "text/x-python",
   "name": "python",
   "nbconvert_exporter": "python",
   "pygments_lexer": "ipython3",
   "version": "3.11.4"
  }
 },
 "nbformat": 4,
 "nbformat_minor": 5
}

{
 "cells": [
  {
   "cell_type": "markdown",
   "id": "34854b54",
   "metadata": {},
   "source": [
    "## set_methods"
   ]
  },
  {
   "cell_type": "code",
   "execution_count": 17,
   "id": "eb1acb32",
   "metadata": {},
   "outputs": [],
   "source": [
    "s={2,4,5,8,3,7,12,}\n"
   ]
  },
  {
   "cell_type": "code",
   "execution_count": 18,
   "id": "9971c972",
   "metadata": {},
   "outputs": [],
   "source": [
    "s.add(11)"
   ]
  },
  {
   "cell_type": "code",
   "execution_count": 19,
   "id": "7bd982e4",
   "metadata": {},
   "outputs": [
    {
     "data": {
      "text/plain": [
       "2"
      ]
     },
     "execution_count": 19,
     "metadata": {},
     "output_type": "execute_result"
    }
   ],
   "source": [
    "s.pop()\n"
   ]
  },
  {
   "cell_type": "code",
   "execution_count": 20,
   "id": "5dbe8224",
   "metadata": {},
   "outputs": [],
   "source": [
    "s.remove(4)"
   ]
  },
  {
   "cell_type": "code",
   "execution_count": 21,
   "id": "b7c6fbaa",
   "metadata": {},
   "outputs": [
    {
     "data": {
      "text/plain": [
       "{3, 5, 7, 8, 11, 12}"
      ]
     },
     "execution_count": 21,
     "metadata": {},
     "output_type": "execute_result"
    }
   ],
   "source": [
    "s"
   ]
  },
  {
   "cell_type": "code",
   "execution_count": 23,
   "id": "5e37f620",
   "metadata": {},
   "outputs": [],
   "source": [
    "s.discard(2)"
   ]
  },
  {
   "cell_type": "code",
   "execution_count": 24,
   "id": "bcadce89",
   "metadata": {},
   "outputs": [],
   "source": [
    "s1=s.copy()"
   ]
  },
  {
   "cell_type": "code",
   "execution_count": 25,
   "id": "f5745a8a",
   "metadata": {},
   "outputs": [
    {
     "data": {
      "text/plain": [
       "{3, 5, 7, 8, 11, 12}"
      ]
     },
     "execution_count": 25,
     "metadata": {},
     "output_type": "execute_result"
    }
   ],
   "source": [
    "s1"
   ]
  },
  {
   "cell_type": "code",
   "execution_count": 26,
   "id": "621be900",
   "metadata": {},
   "outputs": [],
   "source": [
    "s1.clear()"
   ]
  },
  {
   "cell_type": "code",
   "execution_count": 34,
   "id": "ada89948",
   "metadata": {},
   "outputs": [],
   "source": [
    "s1={1,34,4,63,5,7}"
   ]
  },
  {
   "cell_type": "code",
   "execution_count": 35,
   "id": "751b6b3b",
   "metadata": {},
   "outputs": [
    {
     "data": {
      "text/plain": [
       "{1, 4, 5, 7, 34, 63}"
      ]
     },
     "execution_count": 35,
     "metadata": {},
     "output_type": "execute_result"
    }
   ],
   "source": [
    "s1"
   ]
  },
  {
   "cell_type": "code",
   "execution_count": 36,
   "id": "26b26678",
   "metadata": {},
   "outputs": [
    {
     "data": {
      "text/plain": [
       "{5, 7}"
      ]
     },
     "execution_count": 36,
     "metadata": {},
     "output_type": "execute_result"
    }
   ],
   "source": [
    "s.intersection(s1)"
   ]
  },
  {
   "cell_type": "code",
   "execution_count": 37,
   "id": "1640547a",
   "metadata": {},
   "outputs": [
    {
     "data": {
      "text/plain": [
       "{1, 3, 4, 5, 7, 8, 11, 12, 34, 63}"
      ]
     },
     "execution_count": 37,
     "metadata": {},
     "output_type": "execute_result"
    }
   ],
   "source": [
    "s.union(s1)"
   ]
  },
  {
   "cell_type": "code",
   "execution_count": 38,
   "id": "ebc1324f",
   "metadata": {},
   "outputs": [
    {
     "ename": "AttributeError",
     "evalue": "'set' object has no attribute 'sysmetric_difference'",
     "output_type": "error",
     "traceback": [
      "\u001b[1;31m---------------------------------------------------------------------------\u001b[0m",
      "\u001b[1;31mAttributeError\u001b[0m                            Traceback (most recent call last)",
      "Cell \u001b[1;32mIn[38], line 1\u001b[0m\n\u001b[1;32m----> 1\u001b[0m s\u001b[38;5;241m.\u001b[39msysmetric_difference(s1)\n",
      "\u001b[1;31mAttributeError\u001b[0m: 'set' object has no attribute 'sysmetric_difference'"
     ]
    }
   ],
   "source": [
    "s.symmetric_difference"
   ]
  },
  {
   "cell_type": "code",
   "execution_count": 39,
   "id": "69a31e96",
   "metadata": {},
   "outputs": [
    {
     "data": {
      "text/plain": [
       "{3, 8, 11, 12}"
      ]
     },
     "execution_count": 39,
     "metadata": {},
     "output_type": "execute_result"
    }
   ],
   "source": [
    "s.difference(s1)"
   ]
  },
  {
   "cell_type": "code",
   "execution_count": 40,
   "id": "53409f8f",
   "metadata": {},
   "outputs": [
    {
     "data": {
      "text/plain": [
       "False"
      ]
     },
     "execution_count": 40,
     "metadata": {},
     "output_type": "execute_result"
    }
   ],
   "source": [
    "s.issubset(s1)"
   ]
  },
  {
   "cell_type": "code",
   "execution_count": 41,
   "id": "5173de89",
   "metadata": {},
   "outputs": [
    {
     "data": {
      "text/plain": [
       "False"
      ]
     },
     "execution_count": 41,
     "metadata": {},
     "output_type": "execute_result"
    }
   ],
   "source": [
    "s1.issubset(s)"
   ]
  },
  {
   "cell_type": "markdown",
   "id": "455e95e1",
   "metadata": {},
   "source": [
    "## String_methods"
   ]
  },
  {
   "cell_type": "code",
   "execution_count": 84,
   "id": "866955a1",
   "metadata": {},
   "outputs": [],
   "source": [
    "s=\"This is the string and it's say hello                 \"\n"
   ]
  },
  {
   "cell_type": "code",
   "execution_count": 54,
   "id": "27eec3c4",
   "metadata": {},
   "outputs": [
    {
     "data": {
      "text/plain": [
       "38"
      ]
     },
     "execution_count": 54,
     "metadata": {},
     "output_type": "execute_result"
    }
   ],
   "source": [
    "s.count('')"
   ]
  },
  {
   "cell_type": "code",
   "execution_count": 55,
   "id": "35a29255",
   "metadata": {},
   "outputs": [
    {
     "data": {
      "text/plain": [
       "['This', 'is', 'the', 'string', 'and', \"it's\", 'say', 'hello']"
      ]
     },
     "execution_count": 55,
     "metadata": {},
     "output_type": "execute_result"
    }
   ],
   "source": [
    "s.split()"
   ]
  },
  {
   "cell_type": "code",
   "execution_count": 56,
   "id": "c7396f9f",
   "metadata": {},
   "outputs": [
    {
     "data": {
      "text/plain": [
       "\"This is the string or it's say hello\""
      ]
     },
     "execution_count": 56,
     "metadata": {},
     "output_type": "execute_result"
    }
   ],
   "source": [
    "s.replace(\"and\",\"or\")"
   ]
  },
  {
   "cell_type": "code",
   "execution_count": 57,
   "id": "88c58092",
   "metadata": {},
   "outputs": [
    {
     "data": {
      "text/plain": [
       "\"This Is The String And It'S Say Hello\""
      ]
     },
     "execution_count": 57,
     "metadata": {},
     "output_type": "execute_result"
    }
   ],
   "source": [
    "s.title()"
   ]
  },
  {
   "cell_type": "code",
   "execution_count": 58,
   "id": "a8d8d968",
   "metadata": {},
   "outputs": [
    {
     "data": {
      "text/plain": [
       "\"This is the string and it's say hello\""
      ]
     },
     "execution_count": 58,
     "metadata": {},
     "output_type": "execute_result"
    }
   ],
   "source": [
    "s.capitalize()"
   ]
  },
  {
   "cell_type": "code",
   "execution_count": 59,
   "id": "6f403c8d",
   "metadata": {},
   "outputs": [
    {
     "data": {
      "text/plain": [
       "\"THIS IS THE STRING AND IT'S SAY HELLO\""
      ]
     },
     "execution_count": 59,
     "metadata": {},
     "output_type": "execute_result"
    }
   ],
   "source": [
    "s.upper()"
   ]
  },
  {
   "cell_type": "code",
   "execution_count": 60,
   "id": "9aaf4258",
   "metadata": {},
   "outputs": [
    {
     "data": {
      "text/plain": [
       "\"this is the string and it's say hello\""
      ]
     },
     "execution_count": 60,
     "metadata": {},
     "output_type": "execute_result"
    }
   ],
   "source": [
    "s.lower()"
   ]
  },
  {
   "cell_type": "code",
   "execution_count": 61,
   "id": "7cb78df4",
   "metadata": {},
   "outputs": [
    {
     "data": {
      "text/plain": [
       "\"tHIS IS THE STRING AND IT'S SAY HELLO\""
      ]
     },
     "execution_count": 61,
     "metadata": {},
     "output_type": "execute_result"
    }
   ],
   "source": [
    "s.swapcase()"
   ]
  },
  {
   "cell_type": "code",
   "execution_count": 66,
   "id": "6c52d4ca",
   "metadata": {},
   "outputs": [
    {
     "data": {
      "text/plain": [
       "\"#This is the string and it's say hello##\""
      ]
     },
     "execution_count": 66,
     "metadata": {},
     "output_type": "execute_result"
    }
   ],
   "source": [
    "s.center(40,'#')"
   ]
  },
  {
   "cell_type": "code",
   "execution_count": 67,
   "id": "7f45ff53",
   "metadata": {},
   "outputs": [
    {
     "data": {
      "text/plain": [
       "False"
      ]
     },
     "execution_count": 67,
     "metadata": {},
     "output_type": "execute_result"
    }
   ],
   "source": [
    "s.isalnum()"
   ]
  },
  {
   "cell_type": "code",
   "execution_count": 71,
   "id": "61eacf70",
   "metadata": {},
   "outputs": [
    {
     "data": {
      "text/plain": [
       "False"
      ]
     },
     "execution_count": 71,
     "metadata": {},
     "output_type": "execute_result"
    }
   ],
   "source": [
    "s.isnumeric()"
   ]
  },
  {
   "cell_type": "code",
   "execution_count": 72,
   "id": "350b35c7",
   "metadata": {},
   "outputs": [
    {
     "data": {
      "text/plain": [
       "False"
      ]
     },
     "execution_count": 72,
     "metadata": {},
     "output_type": "execute_result"
    }
   ],
   "source": [
    "s.isalpha()"
   ]
  },
  {
   "cell_type": "code",
   "execution_count": 78,
   "id": "b5fef84d",
   "metadata": {},
   "outputs": [
    {
     "data": {
      "text/plain": [
       "True"
      ]
     },
     "execution_count": 78,
     "metadata": {},
     "output_type": "execute_result"
    }
   ],
   "source": [
    "s.startswith(\"This\")"
   ]
  },
  {
   "cell_type": "code",
   "execution_count": 79,
   "id": "5f38b4b5",
   "metadata": {},
   "outputs": [
    {
     "data": {
      "text/plain": [
       "True"
      ]
     },
     "execution_count": 79,
     "metadata": {},
     "output_type": "execute_result"
    }
   ],
   "source": [
    "s.endswith(\"o\")"
   ]
  },
  {
   "cell_type": "code",
   "execution_count": 82,
   "id": "157a3c97",
   "metadata": {},
   "outputs": [
    {
     "data": {
      "text/plain": [
       "\"000This is the string and it's say hello\""
      ]
     },
     "execution_count": 82,
     "metadata": {},
     "output_type": "execute_result"
    }
   ],
   "source": [
    "s.zfill(40)"
   ]
  },
  {
   "cell_type": "code",
   "execution_count": 85,
   "id": "b96cf756",
   "metadata": {},
   "outputs": [
    {
     "data": {
      "text/plain": [
       "\"This is the string and it's say hello\""
      ]
     },
     "execution_count": 85,
     "metadata": {},
     "output_type": "execute_result"
    }
   ],
   "source": [
    "s.strip()"
   ]
  },
  {
   "cell_type": "code",
   "execution_count": 86,
   "id": "7e1ce780",
   "metadata": {},
   "outputs": [
    {
     "data": {
      "text/plain": [
       "False"
      ]
     },
     "execution_count": 86,
     "metadata": {},
     "output_type": "execute_result"
    }
   ],
   "source": [
    "s.isdigit()"
   ]
  },
  {
   "cell_type": "code",
   "execution_count": 88,
   "id": "e336a6bb",
   "metadata": {},
   "outputs": [
    {
     "data": {
      "text/plain": [
       "False"
      ]
     },
     "execution_count": 88,
     "metadata": {},
     "output_type": "execute_result"
    }
   ],
   "source": [
    "s.islower()"
   ]
  },
  {
   "cell_type": "code",
   "execution_count": 89,
   "id": "5eadb2ec",
   "metadata": {},
   "outputs": [
    {
     "data": {
      "text/plain": [
       "False"
      ]
     },
     "execution_count": 89,
     "metadata": {},
     "output_type": "execute_result"
    }
   ],
   "source": [
    "s.isidentifier()"
   ]
  },
  {
   "cell_type": "markdown",
   "id": "398b8b2d",
   "metadata": {},
   "source": [
    "## Tuple_methods"
   ]
  },
  {
   "cell_type": "code",
   "execution_count": 107,
   "id": "e951f8de",
   "metadata": {},
   "outputs": [],
   "source": [
    "t=(\"c\",\"c++\")"
   ]
  },
  {
   "cell_type": "code",
   "execution_count": 109,
   "id": "fe361647",
   "metadata": {},
   "outputs": [],
   "source": [
    "a=\" \".join(t)"
   ]
  },
  {
   "cell_type": "code",
   "execution_count": 110,
   "id": "7503b8bd",
   "metadata": {},
   "outputs": [
    {
     "data": {
      "text/plain": [
       "'c c++'"
      ]
     },
     "execution_count": 110,
     "metadata": {},
     "output_type": "execute_result"
    }
   ],
   "source": [
    "a"
   ]
  },
  {
   "cell_type": "code",
   "execution_count": 111,
   "id": "4351beed",
   "metadata": {},
   "outputs": [],
   "source": [
    "t1=(2,4,6,8,5,1)"
   ]
  },
  {
   "cell_type": "code",
   "execution_count": 112,
   "id": "fc5fb5ce",
   "metadata": {},
   "outputs": [],
   "source": [
    "t2=t+t1"
   ]
  },
  {
   "cell_type": "code",
   "execution_count": 113,
   "id": "b0785b70",
   "metadata": {},
   "outputs": [
    {
     "data": {
      "text/plain": [
       "('c', 'c++', 2, 4, 6, 8, 5, 1)"
      ]
     },
     "execution_count": 113,
     "metadata": {},
     "output_type": "execute_result"
    }
   ],
   "source": [
    "t2"
   ]
  },
  {
   "cell_type": "markdown",
   "id": "aa32fa92",
   "metadata": {},
   "source": [
    "## List_methods"
   ]
  },
  {
   "cell_type": "code",
   "execution_count": 82,
   "id": "c10b2675",
   "metadata": {},
   "outputs": [],
   "source": [
    "l=[2,3,4,6,8]"
   ]
  },
  {
   "cell_type": "code",
   "execution_count": 87,
   "id": "1f672fc9",
   "metadata": {},
   "outputs": [
    {
     "data": {
      "text/plain": [
       "0"
      ]
     },
     "execution_count": 87,
     "metadata": {},
     "output_type": "execute_result"
    }
   ],
   "source": [
    "l.index(2)"
   ]
  },
  {
   "cell_type": "code",
   "execution_count": 117,
   "id": "7aa1dcff",
   "metadata": {},
   "outputs": [
    {
     "data": {
      "text/plain": [
       "[2, 3, 4, 6, 8, 11, 10, 12, 20, 25, 30]"
      ]
     },
     "execution_count": 117,
     "metadata": {},
     "output_type": "execute_result"
    }
   ],
   "source": [
    "l[0:]"
   ]
  },
  {
   "cell_type": "code",
   "execution_count": 118,
   "id": "3ad2ce0d",
   "metadata": {},
   "outputs": [
    {
     "data": {
      "text/plain": [
       "[30, 25, 20, 12, 10, 11, 8, 6, 4, 3, 2]"
      ]
     },
     "execution_count": 118,
     "metadata": {},
     "output_type": "execute_result"
    }
   ],
   "source": [
    "l[::-1]"
   ]
  },
  {
   "cell_type": "code",
   "execution_count": 130,
   "id": "b37987cf",
   "metadata": {},
   "outputs": [
    {
     "data": {
      "text/plain": [
       "[100, 3, 6, 10, 12, 25]"
      ]
     },
     "execution_count": 130,
     "metadata": {},
     "output_type": "execute_result"
    }
   ],
   "source": [
    "l[::-2]"
   ]
  },
  {
   "cell_type": "code",
   "execution_count": 125,
   "id": "08c90b01",
   "metadata": {},
   "outputs": [],
   "source": [
    "l.sort(reverse=True)"
   ]
  },
  {
   "cell_type": "code",
   "execution_count": 128,
   "id": "8eec13ab",
   "metadata": {},
   "outputs": [],
   "source": [
    "l.append(100)"
   ]
  },
  {
   "cell_type": "code",
   "execution_count": 133,
   "id": "2db80217",
   "metadata": {},
   "outputs": [],
   "source": [
    "l.insert(0,1)"
   ]
  },
  {
   "cell_type": "code",
   "execution_count": 134,
   "id": "20e38595",
   "metadata": {},
   "outputs": [
    {
     "data": {
      "text/plain": [
       "[1, 30, 1, 25, 20, 12, 11, 10, 8, 6, 4, 3, 2, 100]"
      ]
     },
     "execution_count": 134,
     "metadata": {},
     "output_type": "execute_result"
    }
   ],
   "source": [
    "l"
   ]
  },
  {
   "cell_type": "code",
   "execution_count": 136,
   "id": "5aac9b9a",
   "metadata": {},
   "outputs": [],
   "source": [
    "l1=[5,10]"
   ]
  },
  {
   "cell_type": "code",
   "execution_count": 137,
   "id": "42cf66d3",
   "metadata": {},
   "outputs": [],
   "source": [
    "l.extend(l1)"
   ]
  },
  {
   "cell_type": "code",
   "execution_count": 138,
   "id": "e0b0a99e",
   "metadata": {},
   "outputs": [
    {
     "data": {
      "text/plain": [
       "[2, 3, 4, 6, 8, 5, 10]"
      ]
     },
     "execution_count": 138,
     "metadata": {},
     "output_type": "execute_result"
    }
   ],
   "source": [
    "l"
   ]
  },
  {
   "cell_type": "code",
   "execution_count": 139,
   "id": "a565f7f9",
   "metadata": {},
   "outputs": [],
   "source": [
    "l2=l.copy()"
   ]
  },
  {
   "cell_type": "code",
   "execution_count": 148,
   "id": "01ac80cc",
   "metadata": {},
   "outputs": [
    {
     "data": {
      "text/plain": [
       "1"
      ]
     },
     "execution_count": 148,
     "metadata": {},
     "output_type": "execute_result"
    }
   ],
   "source": [
    "l.count(2)"
   ]
  },
  {
   "cell_type": "code",
   "execution_count": 149,
   "id": "d0436ec7",
   "metadata": {},
   "outputs": [],
   "source": [
    "l2.clear()"
   ]
  },
  {
   "cell_type": "code",
   "execution_count": 152,
   "id": "d61c2bc1",
   "metadata": {},
   "outputs": [
    {
     "data": {
      "text/plain": [
       "2"
      ]
     },
     "execution_count": 152,
     "metadata": {},
     "output_type": "execute_result"
    }
   ],
   "source": [
    "min(l)"
   ]
  },
  {
   "cell_type": "code",
   "execution_count": 153,
   "id": "3c71b568",
   "metadata": {},
   "outputs": [
    {
     "data": {
      "text/plain": [
       "10"
      ]
     },
     "execution_count": 153,
     "metadata": {},
     "output_type": "execute_result"
    }
   ],
   "source": [
    "max(l)"
   ]
  },
  {
   "cell_type": "code",
   "execution_count": 156,
   "id": "f0c22935",
   "metadata": {},
   "outputs": [
    {
     "data": {
      "text/plain": [
       "10"
      ]
     },
     "execution_count": 156,
     "metadata": {},
     "output_type": "execute_result"
    }
   ],
   "source": [
    "l.pop()"
   ]
  },
  {
   "cell_type": "code",
   "execution_count": 157,
   "id": "33a45255",
   "metadata": {},
   "outputs": [],
   "source": [
    "del l[0:2]"
   ]
  },
  {
   "cell_type": "code",
   "execution_count": 159,
   "id": "99bfafbb",
   "metadata": {},
   "outputs": [
    {
     "data": {
      "text/plain": [
       "[4, 6, 8, 5]"
      ]
     },
     "execution_count": 159,
     "metadata": {},
     "output_type": "execute_result"
    }
   ],
   "source": [
    "l"
   ]
  },
  {
   "cell_type": "markdown",
   "id": "3806a673",
   "metadata": {},
   "source": [
    "# Dictionary"
   ]
  },
  {
   "cell_type": "code",
   "execution_count": 26,
   "id": "35224f87",
   "metadata": {},
   "outputs": [],
   "source": [
    "d={\"key\":\"value\", \"city\": \"pune\",\"name\":\"tejas\",\"Number\":94}\n",
    "\n"
   ]
  },
  {
   "cell_type": "code",
   "execution_count": 27,
   "id": "867d03bc",
   "metadata": {},
   "outputs": [
    {
     "data": {
      "text/plain": [
       "{'key': 'value', 'city': 'pune', 'name': 'tejas', 'Number': 94}"
      ]
     },
     "execution_count": 27,
     "metadata": {},
     "output_type": "execute_result"
    }
   ],
   "source": [
    "d"
   ]
  },
  {
   "cell_type": "code",
   "execution_count": 28,
   "id": "6b1dbeb2",
   "metadata": {},
   "outputs": [],
   "source": [
    "d[\"age\"]=21"
   ]
  },
  {
   "cell_type": "code",
   "execution_count": 29,
   "id": "07885ac9",
   "metadata": {},
   "outputs": [
    {
     "data": {
      "text/plain": [
       "{'key': 'value', 'city': 'pune', 'name': 'tejas', 'Number': 94, 'age': 21}"
      ]
     },
     "execution_count": 29,
     "metadata": {},
     "output_type": "execute_result"
    }
   ],
   "source": [
    "d"
   ]
  },
  {
   "cell_type": "code",
   "execution_count": 30,
   "id": "63cd8971",
   "metadata": {},
   "outputs": [
    {
     "data": {
      "text/plain": [
       "'value'"
      ]
     },
     "execution_count": 30,
     "metadata": {},
     "output_type": "execute_result"
    }
   ],
   "source": [
    "d.get('key')"
   ]
  },
  {
   "cell_type": "code",
   "execution_count": 31,
   "id": "48a70542",
   "metadata": {},
   "outputs": [
    {
     "data": {
      "text/plain": [
       "'value'"
      ]
     },
     "execution_count": 31,
     "metadata": {},
     "output_type": "execute_result"
    }
   ],
   "source": [
    "d['key']"
   ]
  },
  {
   "cell_type": "code",
   "execution_count": 32,
   "id": "fb0ff104",
   "metadata": {},
   "outputs": [
    {
     "data": {
      "text/plain": [
       "'value'"
      ]
     },
     "execution_count": 32,
     "metadata": {},
     "output_type": "execute_result"
    }
   ],
   "source": [
    "d.pop('key')"
   ]
  },
  {
   "cell_type": "code",
   "execution_count": 33,
   "id": "63e53682",
   "metadata": {},
   "outputs": [
    {
     "data": {
      "text/plain": [
       "('age', 21)"
      ]
     },
     "execution_count": 33,
     "metadata": {},
     "output_type": "execute_result"
    }
   ],
   "source": [
    "d.popitem()"
   ]
  },
  {
   "cell_type": "code",
   "execution_count": 34,
   "id": "fae5bf24",
   "metadata": {},
   "outputs": [
    {
     "data": {
      "text/plain": [
       "dict_keys(['city', 'name', 'Number'])"
      ]
     },
     "execution_count": 34,
     "metadata": {},
     "output_type": "execute_result"
    }
   ],
   "source": [
    "d.keys()"
   ]
  },
  {
   "cell_type": "code",
   "execution_count": 35,
   "id": "74d6b47d",
   "metadata": {},
   "outputs": [
    {
     "data": {
      "text/plain": [
       "dict_values(['pune', 'tejas', 94])"
      ]
     },
     "execution_count": 35,
     "metadata": {},
     "output_type": "execute_result"
    }
   ],
   "source": [
    "d.values()"
   ]
  },
  {
   "cell_type": "code",
   "execution_count": 36,
   "id": "42291025",
   "metadata": {},
   "outputs": [],
   "source": [
    "D=d.copy()"
   ]
  },
  {
   "cell_type": "code",
   "execution_count": 37,
   "id": "94810d9d",
   "metadata": {},
   "outputs": [
    {
     "data": {
      "text/plain": [
       "{'city': 'pune', 'name': 'tejas', 'Number': 94}"
      ]
     },
     "execution_count": 37,
     "metadata": {},
     "output_type": "execute_result"
    }
   ],
   "source": [
    "D"
   ]
  },
  {
   "cell_type": "code",
   "execution_count": 43,
   "id": "baea7192",
   "metadata": {},
   "outputs": [
    {
     "data": {
      "text/plain": [
       "False"
      ]
     },
     "execution_count": 43,
     "metadata": {},
     "output_type": "execute_result"
    }
   ],
   "source": [
    "'pune' in d"
   ]
  },
  {
   "cell_type": "code",
   "execution_count": 44,
   "id": "5d4dce05",
   "metadata": {},
   "outputs": [
    {
     "data": {
      "text/plain": [
       "True"
      ]
     },
     "execution_count": 44,
     "metadata": {},
     "output_type": "execute_result"
    }
   ],
   "source": [
    "'pune' in d['city']"
   ]
  },
  {
   "cell_type": "code",
   "execution_count": 67,
   "id": "a8fe35ac",
   "metadata": {},
   "outputs": [],
   "source": [
    "d[\"dict\"]={'key':\"value\",\"number\":12}"
   ]
  },
  {
   "cell_type": "code",
   "execution_count": 68,
   "id": "ed8e511c",
   "metadata": {},
   "outputs": [
    {
     "data": {
      "text/plain": [
       "{'city': 'pune',\n",
       " 'name': 'tejas',\n",
       " 'Number': 94,\n",
       " 'dict': {'key': 'value', 'number': 12}}"
      ]
     },
     "execution_count": 68,
     "metadata": {},
     "output_type": "execute_result"
    }
   ],
   "source": [
    "d"
   ]
  },
  {
   "cell_type": "code",
   "execution_count": 70,
   "id": "345a57a1",
   "metadata": {},
   "outputs": [
    {
     "data": {
      "text/plain": [
       "12"
      ]
     },
     "execution_count": 70,
     "metadata": {},
     "output_type": "execute_result"
    }
   ],
   "source": [
    "d[\"dict\"][\"number\"]"
   ]
  },
  {
   "cell_type": "code",
   "execution_count": 71,
   "id": "318f7968",
   "metadata": {},
   "outputs": [
    {
     "data": {
      "text/plain": [
       "{'city': 'pune', 'name': 'tejas', 'Number': 94}"
      ]
     },
     "execution_count": 71,
     "metadata": {},
     "output_type": "execute_result"
    }
   ],
   "source": [
    "D"
   ]
  },
  {
   "cell_type": "code",
   "execution_count": 73,
   "id": "213531b1",
   "metadata": {},
   "outputs": [],
   "source": [
    "d.update(D)"
   ]
  },
  {
   "cell_type": "code",
   "execution_count": 74,
   "id": "271bb955",
   "metadata": {},
   "outputs": [
    {
     "data": {
      "text/plain": [
       "{'city': 'pune',\n",
       " 'name': 'tejas',\n",
       " 'Number': 94,\n",
       " 'dict': {'key': 'value', 'number': 12}}"
      ]
     },
     "execution_count": 74,
     "metadata": {},
     "output_type": "execute_result"
    }
   ],
   "source": [
    "d"
   ]
  },
  {
   "cell_type": "code",
   "execution_count": 75,
   "id": "3224eb60",
   "metadata": {},
   "outputs": [
    {
     "data": {
      "text/plain": [
       "{'city': 'pune', 'name': 'tejas', 'Number': 94}"
      ]
     },
     "execution_count": 75,
     "metadata": {},
     "output_type": "execute_result"
    }
   ],
   "source": [
    "D"
   ]
  },
  {
   "cell_type": "code",
   "execution_count": 76,
   "id": "b0423068",
   "metadata": {},
   "outputs": [],
   "source": [
    "D[\"end\"]=\"last\""
   ]
  },
  {
   "cell_type": "code",
   "execution_count": 77,
   "id": "99fee37b",
   "metadata": {},
   "outputs": [],
   "source": [
    "d.update(D)"
   ]
  },
  {
   "cell_type": "code",
   "execution_count": 78,
   "id": "6c64fd6c",
   "metadata": {},
   "outputs": [
    {
     "data": {
      "text/plain": [
       "{'city': 'pune',\n",
       " 'name': 'tejas',\n",
       " 'Number': 94,\n",
       " 'dict': {'key': 'value', 'number': 12},\n",
       " 'end': 'last'}"
      ]
     },
     "execution_count": 78,
     "metadata": {},
     "output_type": "execute_result"
    }
   ],
   "source": [
    "d"
   ]
  }
 ],
 "metadata": {
  "kernelspec": {
   "display_name": "Python 3 (ipykernel)",
   "language": "python",
   "name": "python3"
  },
  "language_info": {
   "codemirror_mode": {
    "name": "ipython",
    "version": 3
   },
   "file_extension": ".py",
   "mimetype": "text/x-python",
   "name": "python",
   "nbconvert_exporter": "python",
   "pygments_lexer": "ipython3",
   "version": "3.11.4"
  }
 },
 "nbformat": 4,
 "nbformat_minor": 5
}

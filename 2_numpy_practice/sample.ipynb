{
 "cells": [
  {
   "cell_type": "code",
   "execution_count": 2,
   "id": "3e1250da",
   "metadata": {},
   "outputs": [],
   "source": [
    "import numpy as np\n",
    "import pandas as pd\n",
    "a=np.array([[5, 1,6],\n",
    "       [4, 3,4],\n",
    "       [2, 6,8],\n",
    "       [8, 7,2\n",
    "       ]])"
   ]
  },
  {
   "cell_type": "code",
   "execution_count": 3,
   "id": "45057c81",
   "metadata": {},
   "outputs": [],
   "source": [
    "df=pd.DataFrame(a)"
   ]
  },
  {
   "cell_type": "code",
   "execution_count": 4,
   "id": "4381e135",
   "metadata": {},
   "outputs": [
    {
     "data": {
      "text/html": [
       "<div>\n",
       "<style scoped>\n",
       "    .dataframe tbody tr th:only-of-type {\n",
       "        vertical-align: middle;\n",
       "    }\n",
       "\n",
       "    .dataframe tbody tr th {\n",
       "        vertical-align: top;\n",
       "    }\n",
       "\n",
       "    .dataframe thead th {\n",
       "        text-align: right;\n",
       "    }\n",
       "</style>\n",
       "<table border=\"1\" class=\"dataframe\">\n",
       "  <thead>\n",
       "    <tr style=\"text-align: right;\">\n",
       "      <th></th>\n",
       "      <th>0</th>\n",
       "      <th>1</th>\n",
       "      <th>2</th>\n",
       "    </tr>\n",
       "  </thead>\n",
       "  <tbody>\n",
       "    <tr>\n",
       "      <th>0</th>\n",
       "      <td>5</td>\n",
       "      <td>1</td>\n",
       "      <td>6</td>\n",
       "    </tr>\n",
       "    <tr>\n",
       "      <th>1</th>\n",
       "      <td>4</td>\n",
       "      <td>3</td>\n",
       "      <td>4</td>\n",
       "    </tr>\n",
       "    <tr>\n",
       "      <th>2</th>\n",
       "      <td>2</td>\n",
       "      <td>6</td>\n",
       "      <td>8</td>\n",
       "    </tr>\n",
       "    <tr>\n",
       "      <th>3</th>\n",
       "      <td>8</td>\n",
       "      <td>7</td>\n",
       "      <td>2</td>\n",
       "    </tr>\n",
       "  </tbody>\n",
       "</table>\n",
       "</div>"
      ],
      "text/plain": [
       "   0  1  2\n",
       "0  5  1  6\n",
       "1  4  3  4\n",
       "2  2  6  8\n",
       "3  8  7  2"
      ]
     },
     "execution_count": 4,
     "metadata": {},
     "output_type": "execute_result"
    }
   ],
   "source": [
    "df\n"
   ]
  },
  {
   "cell_type": "code",
   "execution_count": 5,
   "id": "9087f1c6",
   "metadata": {},
   "outputs": [
    {
     "data": {
      "text/plain": [
       "0    2\n",
       "1    1\n",
       "2    2\n",
       "dtype: int32"
      ]
     },
     "execution_count": 5,
     "metadata": {},
     "output_type": "execute_result"
    }
   ],
   "source": [
    "df.min(axis=0)"
   ]
  },
  {
   "cell_type": "code",
   "execution_count": 6,
   "id": "3a064875",
   "metadata": {},
   "outputs": [],
   "source": [
    "b=np.array([[6, 7, 8],\n",
    "       [1, 2, 3],\n",
    "       [4, 5, 6]])"
   ]
  },
  {
   "cell_type": "code",
   "execution_count": 38,
   "id": "097b8cf5",
   "metadata": {},
   "outputs": [
    {
     "data": {
      "text/plain": [
       "4"
      ]
     },
     "execution_count": 38,
     "metadata": {},
     "output_type": "execute_result"
    }
   ],
   "source": [
    "b.itemsize"
   ]
  },
  {
   "cell_type": "code",
   "execution_count": 8,
   "id": "533e077e",
   "metadata": {},
   "outputs": [
    {
     "data": {
      "text/plain": [
       "array([8, 3, 6])"
      ]
     },
     "execution_count": 8,
     "metadata": {},
     "output_type": "execute_result"
    }
   ],
   "source": [
    "b[0:3,2]"
   ]
  },
  {
   "cell_type": "code",
   "execution_count": 9,
   "id": "e9bd702a",
   "metadata": {},
   "outputs": [
    {
     "data": {
      "text/plain": [
       "array([7, 2])"
      ]
     },
     "execution_count": 9,
     "metadata": {},
     "output_type": "execute_result"
    }
   ],
   "source": [
    "b[0:2,1]"
   ]
  },
  {
   "cell_type": "code",
   "execution_count": 35,
   "id": "a4ae3181",
   "metadata": {},
   "outputs": [
    {
     "ename": "AttributeError",
     "evalue": "'numpy.ndarray' object has no attribute 'iteamsize'",
     "output_type": "error",
     "traceback": [
      "\u001b[1;31m---------------------------------------------------------------------------\u001b[0m",
      "\u001b[1;31mAttributeError\u001b[0m                            Traceback (most recent call last)",
      "Cell \u001b[1;32mIn[35], line 1\u001b[0m\n\u001b[1;32m----> 1\u001b[0m b\u001b[38;5;241m.\u001b[39miteamsize()\n",
      "\u001b[1;31mAttributeError\u001b[0m: 'numpy.ndarray' object has no attribute 'iteamsize'"
     ]
    }
   ],
   "source": [
    "b.iteamsize()"
   ]
  },
  {
   "cell_type": "code",
   "execution_count": 19,
   "id": "9129f302",
   "metadata": {},
   "outputs": [
    {
     "data": {
      "text/plain": [
       "0    5.0+0.0j\n",
       "1    4.0+0.0j\n",
       "2    2.0+0.0j\n",
       "3    8.0+0.0j\n",
       "Name: 0, dtype: complex128"
      ]
     },
     "execution_count": 19,
     "metadata": {},
     "output_type": "execute_result"
    }
   ],
   "source": [
    "df[0].astype('complex')"
   ]
  },
  {
   "cell_type": "code",
   "execution_count": 33,
   "id": "1e8b489d",
   "metadata": {},
   "outputs": [
    {
     "ename": "AttributeError",
     "evalue": "'numpy.int32' object has no attribute 'iteamsize'",
     "output_type": "error",
     "traceback": [
      "\u001b[1;31m---------------------------------------------------------------------------\u001b[0m",
      "\u001b[1;31mAttributeError\u001b[0m                            Traceback (most recent call last)",
      "Cell \u001b[1;32mIn[33], line 1\u001b[0m\n\u001b[1;32m----> 1\u001b[0m df[\u001b[38;5;241m0\u001b[39m][\u001b[38;5;241m1\u001b[39m]\u001b[38;5;241m.\u001b[39miteamsize()\n",
      "\u001b[1;31mAttributeError\u001b[0m: 'numpy.int32' object has no attribute 'iteamsize'"
     ]
    }
   ],
   "source": [
    "df[0][1].it"
   ]
  },
  {
   "cell_type": "code",
   "execution_count": 40,
   "id": "843a7c59",
   "metadata": {},
   "outputs": [
    {
     "data": {
      "text/plain": [
       "4"
      ]
     },
     "execution_count": 40,
     "metadata": {},
     "output_type": "execute_result"
    }
   ],
   "source": [
    "b.itemsize"
   ]
  },
  {
   "cell_type": "code",
   "execution_count": 41,
   "id": "8d2efe75",
   "metadata": {},
   "outputs": [
    {
     "data": {
      "text/plain": [
       "2"
      ]
     },
     "execution_count": 41,
     "metadata": {},
     "output_type": "execute_result"
    }
   ],
   "source": [
    "b.ndim"
   ]
  },
  {
   "cell_type": "code",
   "execution_count": 43,
   "id": "cc1f1860",
   "metadata": {},
   "outputs": [
    {
     "data": {
      "text/plain": [
       "array([[6, 7, 8],\n",
       "       [1, 2, 3],\n",
       "       [4, 5, 6]])"
      ]
     },
     "execution_count": 43,
     "metadata": {},
     "output_type": "execute_result"
    }
   ],
   "source": [
    "b"
   ]
  },
  {
   "cell_type": "code",
   "execution_count": 49,
   "id": "e6f97642",
   "metadata": {},
   "outputs": [
    {
     "data": {
      "text/plain": [
       "array([6, 7, 8, 1, 2, 3, 4, 5, 6])"
      ]
     },
     "execution_count": 49,
     "metadata": {},
     "output_type": "execute_result"
    }
   ],
   "source": [
    "b.flatten('k')"
   ]
  },
  {
   "cell_type": "code",
   "execution_count": 60,
   "id": "5a3e0145",
   "metadata": {},
   "outputs": [
    {
     "data": {
      "text/plain": [
       "array([[[[[[0., 0., 0.],\n",
       "           [0., 0., 0.]],\n",
       "\n",
       "          [[0., 0., 0.],\n",
       "           [0., 0., 0.]]],\n",
       "\n",
       "\n",
       "         [[[0., 0., 0.],\n",
       "           [0., 0., 0.]],\n",
       "\n",
       "          [[0., 0., 0.],\n",
       "           [0., 0., 0.]]],\n",
       "\n",
       "\n",
       "         [[[0., 0., 0.],\n",
       "           [0., 0., 0.]],\n",
       "\n",
       "          [[0., 0., 0.],\n",
       "           [0., 0., 0.]]],\n",
       "\n",
       "\n",
       "         [[[0., 0., 0.],\n",
       "           [0., 0., 0.]],\n",
       "\n",
       "          [[0., 0., 0.],\n",
       "           [0., 0., 0.]]]],\n",
       "\n",
       "\n",
       "\n",
       "        [[[[0., 0., 0.],\n",
       "           [0., 0., 0.]],\n",
       "\n",
       "          [[0., 0., 0.],\n",
       "           [0., 0., 0.]]],\n",
       "\n",
       "\n",
       "         [[[0., 0., 0.],\n",
       "           [0., 0., 0.]],\n",
       "\n",
       "          [[0., 0., 0.],\n",
       "           [0., 0., 0.]]],\n",
       "\n",
       "\n",
       "         [[[0., 0., 0.],\n",
       "           [0., 0., 0.]],\n",
       "\n",
       "          [[0., 0., 0.],\n",
       "           [0., 0., 0.]]],\n",
       "\n",
       "\n",
       "         [[[0., 0., 0.],\n",
       "           [0., 0., 0.]],\n",
       "\n",
       "          [[0., 0., 0.],\n",
       "           [0., 0., 0.]]]]],\n",
       "\n",
       "\n",
       "\n",
       "\n",
       "       [[[[[0., 0., 0.],\n",
       "           [0., 0., 0.]],\n",
       "\n",
       "          [[0., 0., 0.],\n",
       "           [0., 0., 0.]]],\n",
       "\n",
       "\n",
       "         [[[0., 0., 0.],\n",
       "           [0., 0., 0.]],\n",
       "\n",
       "          [[0., 0., 0.],\n",
       "           [0., 0., 0.]]],\n",
       "\n",
       "\n",
       "         [[[0., 0., 0.],\n",
       "           [0., 0., 0.]],\n",
       "\n",
       "          [[0., 0., 0.],\n",
       "           [0., 0., 0.]]],\n",
       "\n",
       "\n",
       "         [[[0., 0., 0.],\n",
       "           [0., 0., 0.]],\n",
       "\n",
       "          [[0., 0., 0.],\n",
       "           [0., 0., 0.]]]],\n",
       "\n",
       "\n",
       "\n",
       "        [[[[0., 0., 0.],\n",
       "           [0., 0., 0.]],\n",
       "\n",
       "          [[0., 0., 0.],\n",
       "           [0., 0., 0.]]],\n",
       "\n",
       "\n",
       "         [[[0., 0., 0.],\n",
       "           [0., 0., 0.]],\n",
       "\n",
       "          [[0., 0., 0.],\n",
       "           [0., 0., 0.]]],\n",
       "\n",
       "\n",
       "         [[[0., 0., 0.],\n",
       "           [0., 0., 0.]],\n",
       "\n",
       "          [[0., 0., 0.],\n",
       "           [0., 0., 0.]]],\n",
       "\n",
       "\n",
       "         [[[0., 0., 0.],\n",
       "           [0., 0., 0.]],\n",
       "\n",
       "          [[0., 0., 0.],\n",
       "           [0., 0., 0.]]]]]])"
      ]
     },
     "execution_count": 60,
     "metadata": {},
     "output_type": "execute_result"
    }
   ],
   "source": [
    "np.zeros((2,2,4,2,2,3))"
   ]
  },
  {
   "cell_type": "code",
   "execution_count": 61,
   "id": "df51eeff",
   "metadata": {},
   "outputs": [
    {
     "data": {
      "text/plain": [
       "array([[1., 1., 1., 1.],\n",
       "       [1., 1., 1., 1.],\n",
       "       [1., 1., 1., 1.],\n",
       "       [1., 1., 1., 1.]])"
      ]
     },
     "execution_count": 61,
     "metadata": {},
     "output_type": "execute_result"
    }
   ],
   "source": [
    "np.ones((4,4))"
   ]
  },
  {
   "cell_type": "code",
   "execution_count": 62,
   "id": "e3bec5ab",
   "metadata": {},
   "outputs": [
    {
     "data": {
      "text/plain": [
       "array([[6, 7, 8],\n",
       "       [1, 2, 3],\n",
       "       [4, 5, 6]])"
      ]
     },
     "execution_count": 62,
     "metadata": {},
     "output_type": "execute_result"
    }
   ],
   "source": [
    "b"
   ]
  },
  {
   "cell_type": "code",
   "execution_count": 67,
   "id": "9b2cd5a7",
   "metadata": {},
   "outputs": [
    {
     "name": "stdout",
     "output_type": "stream",
     "text": [
      "6\n",
      "1\n",
      "4\n",
      "7\n",
      "2\n",
      "5\n",
      "8\n",
      "3\n",
      "6\n"
     ]
    }
   ],
   "source": [
    "for a in b.flatten('f'):\n",
    "    print(a)"
   ]
  },
  {
   "cell_type": "code",
   "execution_count": null,
   "id": "85ebdcc2",
   "metadata": {},
   "outputs": [],
   "source": []
  }
 ],
 "metadata": {
  "kernelspec": {
   "display_name": "Python 3 (ipykernel)",
   "language": "python",
   "name": "python3"
  },
  "language_info": {
   "codemirror_mode": {
    "name": "ipython",
    "version": 3
   },
   "file_extension": ".py",
   "mimetype": "text/x-python",
   "name": "python",
   "nbconvert_exporter": "python",
   "pygments_lexer": "ipython3",
   "version": "3.11.4"
  }
 },
 "nbformat": 4,
 "nbformat_minor": 5
}

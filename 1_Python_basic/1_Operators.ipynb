{
 "cells": [
  {
   "cell_type": "markdown",
   "id": "061c0554",
   "metadata": {},
   "source": [
    "# Operators\n"
   ]
  },
  {
   "cell_type": "code",
   "execution_count": 2,
   "id": "16a76190",
   "metadata": {},
   "outputs": [],
   "source": [
    "a=13  \n",
    "b=13.5\n",
    "c=\"13\"\n"
   ]
  },
  {
   "cell_type": "markdown",
   "id": "e0a9adb2",
   "metadata": {},
   "source": [
    "## Arithmatic , Logical ,Relational , Bitwise ,Indentity , Membership , Assignemnt Operators"
   ]
  },
  {
   "cell_type": "code",
   "execution_count": 3,
   "id": "39ccff43",
   "metadata": {},
   "outputs": [],
   "source": [
    "a=12\n",
    "b=6"
   ]
  },
  {
   "cell_type": "code",
   "execution_count": 4,
   "id": "dc320cf2",
   "metadata": {},
   "outputs": [
    {
     "name": "stdout",
     "output_type": "stream",
     "text": [
      "2.0  0 2  2985984 \n"
     ]
    }
   ],
   "source": [
    "#Arithmatic operators\n",
    "a1=a/b\n",
    "a2=a%b\n",
    "a3=a//b\n",
    "a4=a**b\n",
    "print(f'{a1}  {a2} {a3}  {a4} ')\n"
   ]
  },
  {
   "cell_type": "markdown",
   "id": "5fa8a405",
   "metadata": {},
   "source": [
    "## Relationalship operator"
   ]
  },
  {
   "cell_type": "code",
   "execution_count": 5,
   "id": "644e3db9",
   "metadata": {},
   "outputs": [
    {
     "name": "stdout",
     "output_type": "stream",
     "text": [
      "False True False True True \n"
     ]
    }
   ],
   "source": [
    "r1=a<b\n",
    "r2=a>b\n",
    "r3=a<=b\n",
    "r4=a>=b\n",
    "r5=a!=b\n",
    "print(f'{r1} {r2} {r3} {r4} {r5} ')"
   ]
  },
  {
   "cell_type": "markdown",
   "id": "348259de",
   "metadata": {},
   "source": [
    "## Bitwise left and right shift"
   ]
  },
  {
   "cell_type": "code",
   "execution_count": 6,
   "id": "0d3732c8",
   "metadata": {},
   "outputs": [
    {
     "name": "stdout",
     "output_type": "stream",
     "text": [
      "6 12\n"
     ]
    }
   ],
   "source": [
    "b1=a>>1\n",
    "b2=b<<1\n",
    "print(b1,b2)"
   ]
  },
  {
   "cell_type": "markdown",
   "id": "3d62c961",
   "metadata": {},
   "source": [
    "## identity operator"
   ]
  },
  {
   "cell_type": "code",
   "execution_count": 7,
   "id": "ccfaea61",
   "metadata": {},
   "outputs": [
    {
     "name": "stdout",
     "output_type": "stream",
     "text": [
      "True False\n"
     ]
    }
   ],
   "source": [
    "myfood=['jalebi','samosa']\n",
    "i1= \"jalebi\" in myfood\n",
    "i2 =\"cake\" in myfood\n",
    "print(i1,i2)"
   ]
  },
  {
   "cell_type": "markdown",
   "id": "133ef7a3",
   "metadata": {},
   "source": [
    "## Assignment operators"
   ]
  },
  {
   "cell_type": "code",
   "execution_count": 9,
   "id": "2e6b1897",
   "metadata": {},
   "outputs": [],
   "source": [
    "a+=b\n",
    "a*=b\n",
    "a-=b\n",
    "a/=b\n"
   ]
  },
  {
   "cell_type": "markdown",
   "id": "fb270e8f",
   "metadata": {},
   "source": [
    "# #Btwise operators"
   ]
  },
  {
   "cell_type": "code",
   "execution_count": null,
   "id": "6a47597a",
   "metadata": {},
   "outputs": [],
   "source": []
  }
 ],
 "metadata": {
  "kernelspec": {
   "display_name": "Python 3 (ipykernel)",
   "language": "python",
   "name": "python3"
  },
  "language_info": {
   "codemirror_mode": {
    "name": "ipython",
    "version": 3
   },
   "file_extension": ".py",
   "mimetype": "text/x-python",
   "name": "python",
   "nbconvert_exporter": "python",
   "pygments_lexer": "ipython3",
   "version": "3.11.4"
  }
 },
 "nbformat": 4,
 "nbformat_minor": 5
}

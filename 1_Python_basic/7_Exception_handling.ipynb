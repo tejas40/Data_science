{
 "cells": [
  {
   "cell_type": "code",
   "execution_count": 7,
   "id": "8cedd2a4",
   "metadata": {},
   "outputs": [
    {
     "name": "stdout",
     "output_type": "stream",
     "text": [
      "number can't divide by zero\n"
     ]
    }
   ],
   "source": [
    "a=10\n",
    "b=0\n",
    "try: \n",
    "    print(a/b)\n",
    "except:\n",
    "    print(\"number can't divide by zero\")"
   ]
  },
  {
   "cell_type": "code",
   "execution_count": 10,
   "id": "48180f85",
   "metadata": {},
   "outputs": [
    {
     "name": "stdout",
     "output_type": "stream",
     "text": [
      "division by zero\n"
     ]
    }
   ],
   "source": [
    "a=10\n",
    "b=0\n",
    "try: \n",
    "    print(a/b)\n",
    "except Exception as e:\n",
    "    print(e) "
   ]
  },
  {
   "cell_type": "code",
   "execution_count": 3,
   "id": "e1448178",
   "metadata": {},
   "outputs": [
    {
     "name": "stdout",
     "output_type": "stream",
     "text": [
      "1.0\n",
      "file is updated\n"
     ]
    }
   ],
   "source": [
    "a = 10 \n",
    "b = 10\n",
    "try:\n",
    "    print(a/b)\n",
    "    try:\n",
    "        f = open(\"abc.txt\", 'w')\n",
    "        f.write('hello')\n",
    "        print(\"file is updated\")\n",
    "    except Exception as e:\n",
    "        print(e)\n",
    "except Exception as e:\n",
    "    print(e)"
   ]
  },
  {
   "cell_type": "code",
   "execution_count": 12,
   "id": "03747311",
   "metadata": {},
   "outputs": [
    {
     "name": "stdout",
     "output_type": "stream",
     "text": [
      "[5]\n"
     ]
    }
   ],
   "source": [
    "l=[]\n",
    "def add_iteam(n):\n",
    "    try:\n",
    "        l.append(n)\n",
    "        print(l)\n",
    "    except exception as e:\n",
    "        print(e)\n",
    "n=5\n",
    "add_iteam(n)"
   ]
  },
  {
   "cell_type": "code",
   "execution_count": null,
   "id": "5c0ec610",
   "metadata": {},
   "outputs": [],
   "source": []
  }
 ],
 "metadata": {
  "kernelspec": {
   "display_name": "Python 3 (ipykernel)",
   "language": "python",
   "name": "python3"
  },
  "language_info": {
   "codemirror_mode": {
    "name": "ipython",
    "version": 3
   },
   "file_extension": ".py",
   "mimetype": "text/x-python",
   "name": "python",
   "nbconvert_exporter": "python",
   "pygments_lexer": "ipython3",
   "version": "3.11.4"
  }
 },
 "nbformat": 4,
 "nbformat_minor": 5
}

{
 "cells": [
  {
   "cell_type": "code",
   "execution_count": 3,
   "id": "ec283777",
   "metadata": {},
   "outputs": [],
   "source": [
    "from random import*"
   ]
  },
  {
   "cell_type": "code",
   "execution_count": 7,
   "id": "d25dcb99",
   "metadata": {},
   "outputs": [
    {
     "data": {
      "text/plain": [
       "0.0870878727176031"
      ]
     },
     "execution_count": 7,
     "metadata": {},
     "output_type": "execute_result"
    }
   ],
   "source": [
    "random()"
   ]
  },
  {
   "cell_type": "code",
   "execution_count": 8,
   "id": "f9d422d5",
   "metadata": {},
   "outputs": [
    {
     "data": {
      "text/plain": [
       "9"
      ]
     },
     "execution_count": 8,
     "metadata": {},
     "output_type": "execute_result"
    }
   ],
   "source": [
    "randint(1,11)"
   ]
  },
  {
   "cell_type": "code",
   "execution_count": 12,
   "id": "1a309cc0",
   "metadata": {},
   "outputs": [
    {
     "data": {
      "text/plain": [
       "80"
      ]
     },
     "execution_count": 12,
     "metadata": {},
     "output_type": "execute_result"
    }
   ],
   "source": [
    "randrange(0,101,10)"
   ]
  },
  {
   "cell_type": "code",
   "execution_count": 13,
   "id": "450d7512",
   "metadata": {},
   "outputs": [
    {
     "data": {
      "text/plain": [
       "8.107303133305056"
      ]
     },
     "execution_count": 13,
     "metadata": {},
     "output_type": "execute_result"
    }
   ],
   "source": [
    "uniform(1,10)"
   ]
  },
  {
   "cell_type": "code",
   "execution_count": 15,
   "id": "ccf83272",
   "metadata": {},
   "outputs": [],
   "source": [
    "l=[12,11,22,33]"
   ]
  },
  {
   "cell_type": "code",
   "execution_count": 18,
   "id": "eabc15e8",
   "metadata": {
    "scrolled": true
   },
   "outputs": [
    {
     "data": {
      "text/plain": [
       "22"
      ]
     },
     "execution_count": 18,
     "metadata": {},
     "output_type": "execute_result"
    }
   ],
   "source": [
    "choice(l)"
   ]
  },
  {
   "cell_type": "code",
   "execution_count": 25,
   "id": "2aee4955",
   "metadata": {},
   "outputs": [
    {
     "data": {
      "text/plain": [
       "[11, 12]"
      ]
     },
     "execution_count": 25,
     "metadata": {},
     "output_type": "execute_result"
    }
   ],
   "source": [
    "sample(l,k=2)"
   ]
  },
  {
   "cell_type": "code",
   "execution_count": null,
   "id": "eeb15175",
   "metadata": {},
   "outputs": [],
   "source": []
  }
 ],
 "metadata": {
  "kernelspec": {
   "display_name": "Python 3 (ipykernel)",
   "language": "python",
   "name": "python3"
  },
  "language_info": {
   "codemirror_mode": {
    "name": "ipython",
    "version": 3
   },
   "file_extension": ".py",
   "mimetype": "text/x-python",
   "name": "python",
   "nbconvert_exporter": "python",
   "pygments_lexer": "ipython3",
   "version": "3.11.4"
  }
 },
 "nbformat": 4,
 "nbformat_minor": 5
}

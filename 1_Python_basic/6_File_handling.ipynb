{
 "cells": [
  {
   "cell_type": "markdown",
   "id": "cc9c94bc",
   "metadata": {},
   "source": [
    "# READ"
   ]
  },
  {
   "cell_type": "code",
   "execution_count": 9,
   "id": "7e4fd860",
   "metadata": {},
   "outputs": [],
   "source": [
    "f=open(\"abc.txt\",'r')"
   ]
  },
  {
   "cell_type": "code",
   "execution_count": 10,
   "id": "e456eb50",
   "metadata": {},
   "outputs": [
    {
     "data": {
      "text/plain": [
       "'this is the first line '"
      ]
     },
     "execution_count": 10,
     "metadata": {},
     "output_type": "execute_result"
    }
   ],
   "source": [
    "f.readline()"
   ]
  },
  {
   "cell_type": "code",
   "execution_count": 11,
   "id": "5b4cc41f",
   "metadata": {},
   "outputs": [],
   "source": [
    "f.close()"
   ]
  },
  {
   "cell_type": "markdown",
   "id": "6528a3ac",
   "metadata": {},
   "source": [
    "# WRITE"
   ]
  },
  {
   "cell_type": "code",
   "execution_count": 18,
   "id": "454143ef",
   "metadata": {},
   "outputs": [],
   "source": [
    "f=open(\"abc1.txt\",'w')"
   ]
  },
  {
   "cell_type": "code",
   "execution_count": 19,
   "id": "58bf34a3",
   "metadata": {},
   "outputs": [],
   "source": [
    "f.writelines([\n",
    "    \"This is second line\\n\"\n",
    "    \"This is third line\\n\"])"
   ]
  },
  {
   "cell_type": "code",
   "execution_count": 20,
   "id": "5f91c21b",
   "metadata": {},
   "outputs": [],
   "source": [
    "f.close()"
   ]
  },
  {
   "cell_type": "code",
   "execution_count": 25,
   "id": "180ab04e",
   "metadata": {},
   "outputs": [],
   "source": [
    "f=open(\"abc1.txt\",'r')"
   ]
  },
  {
   "cell_type": "code",
   "execution_count": 22,
   "id": "3a8beee0",
   "metadata": {},
   "outputs": [
    {
     "data": {
      "text/plain": [
       "['This is second line\\n', 'This is third line\\n']"
      ]
     },
     "execution_count": 22,
     "metadata": {},
     "output_type": "execute_result"
    }
   ],
   "source": [
    "f.readlines()"
   ]
  },
  {
   "cell_type": "code",
   "execution_count": 26,
   "id": "1b0e2b10",
   "metadata": {},
   "outputs": [
    {
     "name": "stdout",
     "output_type": "stream",
     "text": [
      "This is second line\n",
      "\n",
      "This is third line\n",
      "\n"
     ]
    }
   ],
   "source": [
    "for line in f:\n",
    "    print(line)"
   ]
  },
  {
   "cell_type": "markdown",
   "id": "f2b37b9c",
   "metadata": {},
   "source": [
    "# APPEND"
   ]
  },
  {
   "cell_type": "code",
   "execution_count": 27,
   "id": "5c333311",
   "metadata": {},
   "outputs": [],
   "source": [
    "f=open(\"abc.txt\",'a')"
   ]
  },
  {
   "cell_type": "code",
   "execution_count": 30,
   "id": "91559e2a",
   "metadata": {},
   "outputs": [
    {
     "data": {
      "text/plain": [
       "22"
      ]
     },
     "execution_count": 30,
     "metadata": {},
     "output_type": "execute_result"
    }
   ],
   "source": [
    "f.write(\"this is appended line\\n\")"
   ]
  },
  {
   "cell_type": "code",
   "execution_count": 31,
   "id": "d0148d30",
   "metadata": {},
   "outputs": [],
   "source": [
    "f.close()"
   ]
  },
  {
   "cell_type": "code",
   "execution_count": 32,
   "id": "4423e1b9",
   "metadata": {},
   "outputs": [],
   "source": [
    "f=open(\"abc.txt\",'r')"
   ]
  },
  {
   "cell_type": "code",
   "execution_count": 34,
   "id": "a7bac9a6",
   "metadata": {},
   "outputs": [
    {
     "data": {
      "text/plain": [
       "0"
      ]
     },
     "execution_count": 34,
     "metadata": {},
     "output_type": "execute_result"
    }
   ],
   "source": [
    "f.tell()"
   ]
  },
  {
   "cell_type": "code",
   "execution_count": 36,
   "id": "e020d000",
   "metadata": {},
   "outputs": [
    {
     "data": {
      "text/plain": [
       "11"
      ]
     },
     "execution_count": 36,
     "metadata": {},
     "output_type": "execute_result"
    }
   ],
   "source": [
    "f.seek(11)"
   ]
  },
  {
   "cell_type": "code",
   "execution_count": 37,
   "id": "7dbbb245",
   "metadata": {},
   "outputs": [
    {
     "data": {
      "text/plain": [
       "[' first line athis is appended line\\n']"
      ]
     },
     "execution_count": 37,
     "metadata": {},
     "output_type": "execute_result"
    }
   ],
   "source": [
    "f.readlines()"
   ]
  },
  {
   "cell_type": "code",
   "execution_count": 38,
   "id": "217a7c2e",
   "metadata": {},
   "outputs": [],
   "source": [
    "f.close()"
   ]
  },
  {
   "cell_type": "code",
   "execution_count": null,
   "id": "39d399e8",
   "metadata": {},
   "outputs": [],
   "source": []
  }
 ],
 "metadata": {
  "kernelspec": {
   "display_name": "Python 3 (ipykernel)",
   "language": "python",
   "name": "python3"
  },
  "language_info": {
   "codemirror_mode": {
    "name": "ipython",
    "version": 3
   },
   "file_extension": ".py",
   "mimetype": "text/x-python",
   "name": "python",
   "nbconvert_exporter": "python",
   "pygments_lexer": "ipython3",
   "version": "3.11.4"
  }
 },
 "nbformat": 4,
 "nbformat_minor": 5
}

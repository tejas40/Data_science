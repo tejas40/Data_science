{
 "cells": [
  {
   "cell_type": "code",
   "execution_count": 2,
   "id": "94f25c93",
   "metadata": {},
   "outputs": [],
   "source": [
    "import pandas as pd\n",
    "import numpy as np \n",
    "from sklearn.model_selection import train_test_split\n",
    "from sklearn.linear_model import LogisticRegression\n",
    "from sklearn.svm import SVC\n",
    "from sklearn.ensemble import RandomForestClassifier\n",
    "from sklearn.datasets import load_digits\n",
    "import warnings\n",
    "warnings.filterwarnings(\"ignore\") "
   ]
  },
  {
   "cell_type": "code",
   "execution_count": 3,
   "id": "e021777d",
   "metadata": {},
   "outputs": [],
   "source": [
    "data = load_digits()"
   ]
  },
  {
   "cell_type": "code",
   "execution_count": 4,
   "id": "6afe49d6",
   "metadata": {},
   "outputs": [
    {
     "data": {
      "text/plain": [
       "dict_keys(['data', 'target', 'frame', 'feature_names', 'target_names', 'images', 'DESCR'])"
      ]
     },
     "execution_count": 4,
     "metadata": {},
     "output_type": "execute_result"
    }
   ],
   "source": [
    "data.keys()"
   ]
  },
  {
   "cell_type": "code",
   "execution_count": 5,
   "id": "46c07614",
   "metadata": {},
   "outputs": [],
   "source": [
    " X_train, X_test, y_train, y_test = train_test_split(data.data, data.target, test_size=0.33, random_state=42)"
   ]
  },
  {
   "cell_type": "code",
   "execution_count": 6,
   "id": "96c20677",
   "metadata": {},
   "outputs": [
    {
     "data": {
      "text/plain": [
       "(1203, 64)"
      ]
     },
     "execution_count": 6,
     "metadata": {},
     "output_type": "execute_result"
    }
   ],
   "source": [
    "X_train.shape"
   ]
  },
  {
   "cell_type": "code",
   "execution_count": 7,
   "id": "960f518c",
   "metadata": {},
   "outputs": [
    {
     "data": {
      "text/plain": [
       "0.9629629629629629"
      ]
     },
     "execution_count": 7,
     "metadata": {},
     "output_type": "execute_result"
    }
   ],
   "source": [
    "lr = LogisticRegression()\n",
    "lr.fit(X_train, y_train)\n",
    "lr.score(X_test , y_test)"
   ]
  },
  {
   "cell_type": "code",
   "execution_count": 8,
   "id": "683cfe23",
   "metadata": {},
   "outputs": [
    {
     "data": {
      "text/plain": [
       "0.9865319865319865"
      ]
     },
     "execution_count": 8,
     "metadata": {},
     "output_type": "execute_result"
    }
   ],
   "source": [
    "sv = SVC()\n",
    "sv.fit(X_train, y_train)\n",
    "sv.score(X_test , y_test)"
   ]
  },
  {
   "cell_type": "code",
   "execution_count": 9,
   "id": "7a3fb7ce",
   "metadata": {},
   "outputs": [
    {
     "data": {
      "text/plain": [
       "0.9747474747474747"
      ]
     },
     "execution_count": 9,
     "metadata": {},
     "output_type": "execute_result"
    }
   ],
   "source": [
    "rf = RandomForestClassifier()\n",
    "rf.fit(X_train, y_train)\n",
    "rf.score(X_test , y_test)"
   ]
  },
  {
   "cell_type": "markdown",
   "id": "e66e3a39",
   "metadata": {},
   "source": [
    "## This func use to get score of different algorithm"
   ]
  },
  {
   "cell_type": "code",
   "execution_count": 10,
   "id": "87524e8e",
   "metadata": {},
   "outputs": [],
   "source": [
    "def get_score(model , X_train, y_train, X_test , y_test):\n",
    "    model.fit(X_train , y_train)\n",
    "    return model.score(X_test , y_test)\n"
   ]
  },
  {
   "cell_type": "code",
   "execution_count": 11,
   "id": "6d9453c3",
   "metadata": {},
   "outputs": [
    {
     "data": {
      "text/plain": [
       "0.9629629629629629"
      ]
     },
     "execution_count": 11,
     "metadata": {},
     "output_type": "execute_result"
    }
   ],
   "source": [
    "get_score(lr ,X_train, y_train, X_test , y_test )"
   ]
  },
  {
   "cell_type": "code",
   "execution_count": 12,
   "id": "04fb1d17",
   "metadata": {},
   "outputs": [
    {
     "data": {
      "text/plain": [
       "0.9865319865319865"
      ]
     },
     "execution_count": 12,
     "metadata": {},
     "output_type": "execute_result"
    }
   ],
   "source": [
    "get_score(sv ,X_train, y_train, X_test , y_test )"
   ]
  },
  {
   "cell_type": "code",
   "execution_count": 13,
   "id": "49995994",
   "metadata": {},
   "outputs": [
    {
     "data": {
      "text/plain": [
       "0.9730639730639731"
      ]
     },
     "execution_count": 13,
     "metadata": {},
     "output_type": "execute_result"
    }
   ],
   "source": [
    "get_score(rf ,X_train, y_train, X_test , y_test )"
   ]
  },
  {
   "cell_type": "markdown",
   "id": "5531ecfb",
   "metadata": {},
   "source": [
    "## Drawback of train_test_split"
   ]
  },
  {
   "cell_type": "markdown",
   "id": "13a66ece",
   "metadata": {},
   "source": [
    "when we use train_test_split we get 80% training sample and 20% testing sample \n",
    "but the model didn't train on the 20% sample which goes in testing so model can't \n",
    "predict accurate result for that testing samples"
   ]
  },
  {
   "cell_type": "markdown",
   "id": "dd8bb55f",
   "metadata": {},
   "source": [
    "# KFold"
   ]
  },
  {
   "cell_type": "code",
   "execution_count": 14,
   "id": "887d035a",
   "metadata": {},
   "outputs": [],
   "source": [
    "from sklearn.model_selection import KFold"
   ]
  },
  {
   "cell_type": "code",
   "execution_count": 15,
   "id": "63079be2",
   "metadata": {},
   "outputs": [],
   "source": [
    "fold = KFold(n_splits=3)"
   ]
  },
  {
   "cell_type": "code",
   "execution_count": 16,
   "id": "6f0c5847",
   "metadata": {},
   "outputs": [],
   "source": [
    " l=[1,2,3,4,5,6,7,8,9] "
   ]
  },
  {
   "cell_type": "code",
   "execution_count": 17,
   "id": "5b2276da",
   "metadata": {},
   "outputs": [
    {
     "data": {
      "text/plain": [
       "<generator object _BaseKFold.split at 0x000001F48E454DC0>"
      ]
     },
     "execution_count": 17,
     "metadata": {},
     "output_type": "execute_result"
    }
   ],
   "source": [
    "fold.split(l)"
   ]
  },
  {
   "cell_type": "code",
   "execution_count": 18,
   "id": "19a5fbdd",
   "metadata": {
    "scrolled": true
   },
   "outputs": [
    {
     "name": "stdout",
     "output_type": "stream",
     "text": [
      "[3 4 5 6 7 8] [0 1 2]\n",
      "[0 1 2 6 7 8] [3 4 5]\n",
      "[0 1 2 3 4 5] [6 7 8]\n"
     ]
    }
   ],
   "source": [
    "for train_index, test_index in fold.split(l):\n",
    "    print(train_index, test_index)"
   ]
  },
  {
   "cell_type": "markdown",
   "id": "828b7614",
   "metadata": {},
   "source": [
    "# StratifiedFold"
   ]
  },
  {
   "cell_type": "code",
   "execution_count": 19,
   "id": "639d1bdb",
   "metadata": {},
   "outputs": [],
   "source": [
    "from sklearn.model_selection import StratifiedKFold"
   ]
  },
  {
   "cell_type": "code",
   "execution_count": 20,
   "id": "b0406ed7",
   "metadata": {},
   "outputs": [],
   "source": [
    "kf = StratifiedKFold(n_splits=3)"
   ]
  },
  {
   "cell_type": "markdown",
   "id": "608d7833",
   "metadata": {},
   "source": [
    "i- o \n",
    "1- 0\n",
    "2- 0 \n",
    "3- 0\n",
    "4- 1\n",
    "5- 1\n",
    "6- 1\n",
    "7- 2\n",
    "8- 2\n",
    "9- 2"
   ]
  },
  {
   "cell_type": "code",
   "execution_count": 21,
   "id": "925e95cb",
   "metadata": {},
   "outputs": [],
   "source": [
    "l1 =[0,0,0,1,1,1,2,2,2]"
   ]
  },
  {
   "cell_type": "code",
   "execution_count": 22,
   "id": "d7638139",
   "metadata": {},
   "outputs": [
    {
     "name": "stdout",
     "output_type": "stream",
     "text": [
      "[1 2 4 5 7 8] [0 3 6]\n",
      "[0 2 3 5 6 8] [1 4 7]\n",
      "[0 1 3 4 6 7] [2 5 8]\n"
     ]
    }
   ],
   "source": [
    "for train_index, test_index in kf.split(l, l1):\n",
    "    print(train_index, test_index)"
   ]
  },
  {
   "cell_type": "markdown",
   "id": "204d81fd",
   "metadata": {},
   "source": [
    "## KFold on digits datasets:\n",
    "    "
   ]
  },
  {
   "cell_type": "code",
   "execution_count": 23,
   "id": "21ecf5fd",
   "metadata": {},
   "outputs": [],
   "source": [
    "lr_score=[]\n",
    "svm_score = []\n",
    "rf_score =[]"
   ]
  },
  {
   "cell_type": "code",
   "execution_count": 24,
   "id": "23d1173f",
   "metadata": {},
   "outputs": [],
   "source": [
    "for train_index, test_index in kf.split(data.data, data.target):\n",
    "#     print(train_index, test_index)\n",
    "    X_train , X_test= data.data[train_index] , data.data[test_index] \n",
    "    y_train , y_test = data.target[train_index] , data.target[test_index] \n",
    "    lr_score.append(get_score(lr , X_train , y_train , X_test , y_test))\n",
    "    svm_score.append(get_score(sv , X_train , y_train , X_test , y_test))\n",
    "    rf_score.append(get_score(rf , X_train , y_train , X_test , y_test))"
   ]
  },
  {
   "cell_type": "code",
   "execution_count": 25,
   "id": "897f534c",
   "metadata": {},
   "outputs": [
    {
     "data": {
      "text/plain": [
       "([0.9215358931552587, 0.9415692821368948, 0.9165275459098498],\n",
       " [0.9649415692821369, 0.9799666110183639, 0.9649415692821369],\n",
       " [0.9365609348914858, 0.9565943238731218, 0.9298831385642737])"
      ]
     },
     "execution_count": 25,
     "metadata": {},
     "output_type": "execute_result"
    }
   ],
   "source": [
    "lr_score , svm_score , rf_score"
   ]
  },
  {
   "cell_type": "code",
   "execution_count": 26,
   "id": "f58ec0eb",
   "metadata": {},
   "outputs": [
    {
     "data": {
      "text/plain": [
       "0.9265442404006677"
      ]
     },
     "execution_count": 26,
     "metadata": {},
     "output_type": "execute_result"
    }
   ],
   "source": [
    "np.mean(lr_score)\n"
   ]
  },
  {
   "cell_type": "code",
   "execution_count": 27,
   "id": "f66b044f",
   "metadata": {},
   "outputs": [
    {
     "data": {
      "text/plain": [
       "0.9699499165275459"
      ]
     },
     "execution_count": 27,
     "metadata": {},
     "output_type": "execute_result"
    }
   ],
   "source": [
    "np.mean(svm_score)"
   ]
  },
  {
   "cell_type": "code",
   "execution_count": 28,
   "id": "addd4ada",
   "metadata": {},
   "outputs": [
    {
     "data": {
      "text/plain": [
       "0.9410127991096271"
      ]
     },
     "execution_count": 28,
     "metadata": {},
     "output_type": "execute_result"
    }
   ],
   "source": [
    "np.mean(rf_score)"
   ]
  },
  {
   "cell_type": "markdown",
   "id": "cb44ec24",
   "metadata": {},
   "source": [
    "## Cross_val_score to directly get score "
   ]
  },
  {
   "cell_type": "code",
   "execution_count": 29,
   "id": "1c919beb",
   "metadata": {},
   "outputs": [],
   "source": [
    "from sklearn.model_selection import cross_val_score"
   ]
  },
  {
   "cell_type": "code",
   "execution_count": 30,
   "id": "633979d3",
   "metadata": {},
   "outputs": [
    {
     "data": {
      "text/plain": [
       "0.9137650882079852"
      ]
     },
     "execution_count": 30,
     "metadata": {},
     "output_type": "execute_result"
    }
   ],
   "source": [
    "np.mean(cross_val_score(LogisticRegression() , data.data , data.target , cv =5))"
   ]
  },
  {
   "cell_type": "code",
   "execution_count": 49,
   "id": "b64a1612",
   "metadata": {
    "scrolled": true
   },
   "outputs": [
    {
     "data": {
      "text/plain": [
       "0.8803775920767564"
      ]
     },
     "execution_count": 49,
     "metadata": {},
     "output_type": "execute_result"
    }
   ],
   "source": [
    "np.mean(cross_val_score(SVC(kernel=\"sigmoid\") , data.data , data.target , cv =5))"
   ]
  },
  {
   "cell_type": "code",
   "execution_count": 32,
   "id": "ebc35536",
   "metadata": {},
   "outputs": [
    {
     "data": {
      "text/plain": [
       "0.9382466728567007"
      ]
     },
     "execution_count": 32,
     "metadata": {},
     "output_type": "execute_result"
    }
   ],
   "source": [
    "np.mean(cross_val_score(RandomForestClassifier() , data.data , data.target , cv =5))"
   ]
  }
 ],
 "metadata": {
  "kernelspec": {
   "display_name": "Python 3 (ipykernel)",
   "language": "python",
   "name": "python3"
  },
  "language_info": {
   "codemirror_mode": {
    "name": "ipython",
    "version": 3
   },
   "file_extension": ".py",
   "mimetype": "text/x-python",
   "name": "python",
   "nbconvert_exporter": "python",
   "pygments_lexer": "ipython3",
   "version": "3.11.4"
  }
 },
 "nbformat": 4,
 "nbformat_minor": 5
}
